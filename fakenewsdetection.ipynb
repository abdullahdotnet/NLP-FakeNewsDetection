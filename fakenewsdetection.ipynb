{
  "cells": [
    {
      "cell_type": "code",
      "execution_count": null,
      "metadata": {
        "id": "wEZlV2TTxR-A"
      },
      "outputs": [],
      "source": [
        "import numpy as np\n",
        "import pandas as pd\n",
        "import re\n",
        "from nltk.corpus import stopwords\n",
        "from nltk.stem.porter import PorterStemmer\n",
        "from sklearn.feature_extraction.text import TfidfVectorizer\n",
        "from sklearn.linear_model import LogisticRegression\n",
        "from sklearn.model_selection import train_test_split\n",
        "from sklearn.metrics import accuracy_score\n",
        "from sklearn.preprocessing import LabelEncoder\n",
        "from sklearn.tree import DecisionTreeClassifier\n",
        "from sklearn.svm import SVC\n",
        "from sklearn.neighbors import KNeighborsClassifier"
      ]
    },
    {
      "cell_type": "code",
      "execution_count": null,
      "metadata": {
        "colab": {
          "base_uri": "https://localhost:8080/"
        },
        "id": "j8swA9sDzOKl",
        "outputId": "dcf3e525-bd1b-40ba-e15a-f8089e002982"
      },
      "outputs": [
        {
          "output_type": "stream",
          "name": "stderr",
          "text": [
            "[nltk_data] Downloading package stopwords to /root/nltk_data...\n",
            "[nltk_data]   Unzipping corpora/stopwords.zip.\n"
          ]
        },
        {
          "output_type": "execute_result",
          "data": {
            "text/plain": [
              "True"
            ]
          },
          "metadata": {},
          "execution_count": 2
        }
      ],
      "source": [
        "import nltk\n",
        "nltk.download('stopwords')"
      ]
    },
    {
      "cell_type": "code",
      "execution_count": null,
      "metadata": {
        "colab": {
          "base_uri": "https://localhost:8080/"
        },
        "id": "ob9eowunzYxj",
        "outputId": "fda5c807-a6ce-4db2-8308-fdcf1d9681e1"
      },
      "outputs": [
        {
          "output_type": "stream",
          "name": "stdout",
          "text": [
            "['i', 'me', 'my', 'myself', 'we', 'our', 'ours', 'ourselves', 'you', \"you're\", \"you've\", \"you'll\", \"you'd\", 'your', 'yours', 'yourself', 'yourselves', 'he', 'him', 'his', 'himself', 'she', \"she's\", 'her', 'hers', 'herself', 'it', \"it's\", 'its', 'itself', 'they', 'them', 'their', 'theirs', 'themselves', 'what', 'which', 'who', 'whom', 'this', 'that', \"that'll\", 'these', 'those', 'am', 'is', 'are', 'was', 'were', 'be', 'been', 'being', 'have', 'has', 'had', 'having', 'do', 'does', 'did', 'doing', 'a', 'an', 'the', 'and', 'but', 'if', 'or', 'because', 'as', 'until', 'while', 'of', 'at', 'by', 'for', 'with', 'about', 'against', 'between', 'into', 'through', 'during', 'before', 'after', 'above', 'below', 'to', 'from', 'up', 'down', 'in', 'out', 'on', 'off', 'over', 'under', 'again', 'further', 'then', 'once', 'here', 'there', 'when', 'where', 'why', 'how', 'all', 'any', 'both', 'each', 'few', 'more', 'most', 'other', 'some', 'such', 'no', 'nor', 'not', 'only', 'own', 'same', 'so', 'than', 'too', 'very', 's', 't', 'can', 'will', 'just', 'don', \"don't\", 'should', \"should've\", 'now', 'd', 'll', 'm', 'o', 're', 've', 'y', 'ain', 'aren', \"aren't\", 'couldn', \"couldn't\", 'didn', \"didn't\", 'doesn', \"doesn't\", 'hadn', \"hadn't\", 'hasn', \"hasn't\", 'haven', \"haven't\", 'isn', \"isn't\", 'ma', 'mightn', \"mightn't\", 'mustn', \"mustn't\", 'needn', \"needn't\", 'shan', \"shan't\", 'shouldn', \"shouldn't\", 'wasn', \"wasn't\", 'weren', \"weren't\", 'won', \"won't\", 'wouldn', \"wouldn't\"]\n"
          ]
        }
      ],
      "source": [
        "print(stopwords.words('english'))"
      ]
    },
    {
      "cell_type": "code",
      "execution_count": 11,
      "metadata": {
        "colab": {
          "base_uri": "https://localhost:8080/",
          "height": 660
        },
        "id": "I6zHJF3vy4HN",
        "outputId": "c42b01b6-5067-4194-f37c-9be9fd834b57"
      },
      "outputs": [
        {
          "output_type": "execute_result",
          "data": {
            "text/plain": [
              "                 author                      published  \\\n",
              "0     Barracuda Brigade  2016-10-26T21:41:00.000+03:00   \n",
              "1  reasoning with facts  2016-10-29T08:47:11.259+03:00   \n",
              "2     Barracuda Brigade  2016-10-31T01:41:49.479+02:00   \n",
              "3                Fed Up  2016-11-01T05:22:00.000+02:00   \n",
              "4                Fed Up  2016-11-01T21:56:00.000+02:00   \n",
              "\n",
              "                                               title  \\\n",
              "0  muslims busted they stole millions in govt ben...   \n",
              "1  re why did attorney general loretta lynch plea...   \n",
              "2  breaking weiner cooperating with fbi on hillar...   \n",
              "3  pin drop speech by father of daughter kidnappe...   \n",
              "4  fantastic trumps  point plan to reform healthc...   \n",
              "\n",
              "                                                text language  \\\n",
              "0  print they should pay all the back all the mon...  english   \n",
              "1  why did attorney general loretta lynch plead t...  english   \n",
              "2  red state  \\nfox news sunday reported this mor...  english   \n",
              "3  email kayla mueller was a prisoner and torture...  english   \n",
              "4  email healthcare reform to make america great ...  english   \n",
              "\n",
              "              site_url                                       main_img_url  \\\n",
              "0  100percentfedup.com  http://bb4sp.com/wp-content/uploads/2016/10/Fu...   \n",
              "1  100percentfedup.com  http://bb4sp.com/wp-content/uploads/2016/10/Fu...   \n",
              "2  100percentfedup.com  http://bb4sp.com/wp-content/uploads/2016/10/Fu...   \n",
              "3  100percentfedup.com  http://100percentfedup.com/wp-content/uploads/...   \n",
              "4  100percentfedup.com  http://100percentfedup.com/wp-content/uploads/...   \n",
              "\n",
              "   type label                            title_without_stopwords  \\\n",
              "0  bias  Real        muslims busted stole millions govt benefits   \n",
              "1  bias  Real         attorney general loretta lynch plead fifth   \n",
              "2  bias  Real  breaking weiner cooperating fbi hillary email ...   \n",
              "3  bias  Real  pin drop speech father daughter kidnapped kill...   \n",
              "4  bias  Real  fantastic trumps point plan reform healthcare ...   \n",
              "\n",
              "                              text_without_stopwords  hasImage  \n",
              "0  print pay back money plus interest entire fami...       1.0  \n",
              "1  attorney general loretta lynch plead fifth bar...       1.0  \n",
              "2  red state fox news sunday reported morning ant...       1.0  \n",
              "3  email kayla mueller prisoner tortured isis cha...       1.0  \n",
              "4  email healthcare reform make america great sin...       1.0  "
            ],
            "text/html": [
              "\n",
              "  <div id=\"df-2e4480de-068a-4656-bbb5-248405b34407\" class=\"colab-df-container\">\n",
              "    <div>\n",
              "<style scoped>\n",
              "    .dataframe tbody tr th:only-of-type {\n",
              "        vertical-align: middle;\n",
              "    }\n",
              "\n",
              "    .dataframe tbody tr th {\n",
              "        vertical-align: top;\n",
              "    }\n",
              "\n",
              "    .dataframe thead th {\n",
              "        text-align: right;\n",
              "    }\n",
              "</style>\n",
              "<table border=\"1\" class=\"dataframe\">\n",
              "  <thead>\n",
              "    <tr style=\"text-align: right;\">\n",
              "      <th></th>\n",
              "      <th>author</th>\n",
              "      <th>published</th>\n",
              "      <th>title</th>\n",
              "      <th>text</th>\n",
              "      <th>language</th>\n",
              "      <th>site_url</th>\n",
              "      <th>main_img_url</th>\n",
              "      <th>type</th>\n",
              "      <th>label</th>\n",
              "      <th>title_without_stopwords</th>\n",
              "      <th>text_without_stopwords</th>\n",
              "      <th>hasImage</th>\n",
              "    </tr>\n",
              "  </thead>\n",
              "  <tbody>\n",
              "    <tr>\n",
              "      <th>0</th>\n",
              "      <td>Barracuda Brigade</td>\n",
              "      <td>2016-10-26T21:41:00.000+03:00</td>\n",
              "      <td>muslims busted they stole millions in govt ben...</td>\n",
              "      <td>print they should pay all the back all the mon...</td>\n",
              "      <td>english</td>\n",
              "      <td>100percentfedup.com</td>\n",
              "      <td>http://bb4sp.com/wp-content/uploads/2016/10/Fu...</td>\n",
              "      <td>bias</td>\n",
              "      <td>Real</td>\n",
              "      <td>muslims busted stole millions govt benefits</td>\n",
              "      <td>print pay back money plus interest entire fami...</td>\n",
              "      <td>1.0</td>\n",
              "    </tr>\n",
              "    <tr>\n",
              "      <th>1</th>\n",
              "      <td>reasoning with facts</td>\n",
              "      <td>2016-10-29T08:47:11.259+03:00</td>\n",
              "      <td>re why did attorney general loretta lynch plea...</td>\n",
              "      <td>why did attorney general loretta lynch plead t...</td>\n",
              "      <td>english</td>\n",
              "      <td>100percentfedup.com</td>\n",
              "      <td>http://bb4sp.com/wp-content/uploads/2016/10/Fu...</td>\n",
              "      <td>bias</td>\n",
              "      <td>Real</td>\n",
              "      <td>attorney general loretta lynch plead fifth</td>\n",
              "      <td>attorney general loretta lynch plead fifth bar...</td>\n",
              "      <td>1.0</td>\n",
              "    </tr>\n",
              "    <tr>\n",
              "      <th>2</th>\n",
              "      <td>Barracuda Brigade</td>\n",
              "      <td>2016-10-31T01:41:49.479+02:00</td>\n",
              "      <td>breaking weiner cooperating with fbi on hillar...</td>\n",
              "      <td>red state  \\nfox news sunday reported this mor...</td>\n",
              "      <td>english</td>\n",
              "      <td>100percentfedup.com</td>\n",
              "      <td>http://bb4sp.com/wp-content/uploads/2016/10/Fu...</td>\n",
              "      <td>bias</td>\n",
              "      <td>Real</td>\n",
              "      <td>breaking weiner cooperating fbi hillary email ...</td>\n",
              "      <td>red state fox news sunday reported morning ant...</td>\n",
              "      <td>1.0</td>\n",
              "    </tr>\n",
              "    <tr>\n",
              "      <th>3</th>\n",
              "      <td>Fed Up</td>\n",
              "      <td>2016-11-01T05:22:00.000+02:00</td>\n",
              "      <td>pin drop speech by father of daughter kidnappe...</td>\n",
              "      <td>email kayla mueller was a prisoner and torture...</td>\n",
              "      <td>english</td>\n",
              "      <td>100percentfedup.com</td>\n",
              "      <td>http://100percentfedup.com/wp-content/uploads/...</td>\n",
              "      <td>bias</td>\n",
              "      <td>Real</td>\n",
              "      <td>pin drop speech father daughter kidnapped kill...</td>\n",
              "      <td>email kayla mueller prisoner tortured isis cha...</td>\n",
              "      <td>1.0</td>\n",
              "    </tr>\n",
              "    <tr>\n",
              "      <th>4</th>\n",
              "      <td>Fed Up</td>\n",
              "      <td>2016-11-01T21:56:00.000+02:00</td>\n",
              "      <td>fantastic trumps  point plan to reform healthc...</td>\n",
              "      <td>email healthcare reform to make america great ...</td>\n",
              "      <td>english</td>\n",
              "      <td>100percentfedup.com</td>\n",
              "      <td>http://100percentfedup.com/wp-content/uploads/...</td>\n",
              "      <td>bias</td>\n",
              "      <td>Real</td>\n",
              "      <td>fantastic trumps point plan reform healthcare ...</td>\n",
              "      <td>email healthcare reform make america great sin...</td>\n",
              "      <td>1.0</td>\n",
              "    </tr>\n",
              "  </tbody>\n",
              "</table>\n",
              "</div>\n",
              "    <div class=\"colab-df-buttons\">\n",
              "\n",
              "  <div class=\"colab-df-container\">\n",
              "    <button class=\"colab-df-convert\" onclick=\"convertToInteractive('df-2e4480de-068a-4656-bbb5-248405b34407')\"\n",
              "            title=\"Convert this dataframe to an interactive table.\"\n",
              "            style=\"display:none;\">\n",
              "\n",
              "  <svg xmlns=\"http://www.w3.org/2000/svg\" height=\"24px\" viewBox=\"0 -960 960 960\">\n",
              "    <path d=\"M120-120v-720h720v720H120Zm60-500h600v-160H180v160Zm220 220h160v-160H400v160Zm0 220h160v-160H400v160ZM180-400h160v-160H180v160Zm440 0h160v-160H620v160ZM180-180h160v-160H180v160Zm440 0h160v-160H620v160Z\"/>\n",
              "  </svg>\n",
              "    </button>\n",
              "\n",
              "  <style>\n",
              "    .colab-df-container {\n",
              "      display:flex;\n",
              "      gap: 12px;\n",
              "    }\n",
              "\n",
              "    .colab-df-convert {\n",
              "      background-color: #E8F0FE;\n",
              "      border: none;\n",
              "      border-radius: 50%;\n",
              "      cursor: pointer;\n",
              "      display: none;\n",
              "      fill: #1967D2;\n",
              "      height: 32px;\n",
              "      padding: 0 0 0 0;\n",
              "      width: 32px;\n",
              "    }\n",
              "\n",
              "    .colab-df-convert:hover {\n",
              "      background-color: #E2EBFA;\n",
              "      box-shadow: 0px 1px 2px rgba(60, 64, 67, 0.3), 0px 1px 3px 1px rgba(60, 64, 67, 0.15);\n",
              "      fill: #174EA6;\n",
              "    }\n",
              "\n",
              "    .colab-df-buttons div {\n",
              "      margin-bottom: 4px;\n",
              "    }\n",
              "\n",
              "    [theme=dark] .colab-df-convert {\n",
              "      background-color: #3B4455;\n",
              "      fill: #D2E3FC;\n",
              "    }\n",
              "\n",
              "    [theme=dark] .colab-df-convert:hover {\n",
              "      background-color: #434B5C;\n",
              "      box-shadow: 0px 1px 3px 1px rgba(0, 0, 0, 0.15);\n",
              "      filter: drop-shadow(0px 1px 2px rgba(0, 0, 0, 0.3));\n",
              "      fill: #FFFFFF;\n",
              "    }\n",
              "  </style>\n",
              "\n",
              "    <script>\n",
              "      const buttonEl =\n",
              "        document.querySelector('#df-2e4480de-068a-4656-bbb5-248405b34407 button.colab-df-convert');\n",
              "      buttonEl.style.display =\n",
              "        google.colab.kernel.accessAllowed ? 'block' : 'none';\n",
              "\n",
              "      async function convertToInteractive(key) {\n",
              "        const element = document.querySelector('#df-2e4480de-068a-4656-bbb5-248405b34407');\n",
              "        const dataTable =\n",
              "          await google.colab.kernel.invokeFunction('convertToInteractive',\n",
              "                                                    [key], {});\n",
              "        if (!dataTable) return;\n",
              "\n",
              "        const docLinkHtml = 'Like what you see? Visit the ' +\n",
              "          '<a target=\"_blank\" href=https://colab.research.google.com/notebooks/data_table.ipynb>data table notebook</a>'\n",
              "          + ' to learn more about interactive tables.';\n",
              "        element.innerHTML = '';\n",
              "        dataTable['output_type'] = 'display_data';\n",
              "        await google.colab.output.renderOutput(dataTable, element);\n",
              "        const docLink = document.createElement('div');\n",
              "        docLink.innerHTML = docLinkHtml;\n",
              "        element.appendChild(docLink);\n",
              "      }\n",
              "    </script>\n",
              "  </div>\n",
              "\n",
              "\n",
              "<div id=\"df-35efd2b3-1bfd-4c6e-a336-408f675e34af\">\n",
              "  <button class=\"colab-df-quickchart\" onclick=\"quickchart('df-35efd2b3-1bfd-4c6e-a336-408f675e34af')\"\n",
              "            title=\"Suggest charts\"\n",
              "            style=\"display:none;\">\n",
              "\n",
              "<svg xmlns=\"http://www.w3.org/2000/svg\" height=\"24px\"viewBox=\"0 0 24 24\"\n",
              "     width=\"24px\">\n",
              "    <g>\n",
              "        <path d=\"M19 3H5c-1.1 0-2 .9-2 2v14c0 1.1.9 2 2 2h14c1.1 0 2-.9 2-2V5c0-1.1-.9-2-2-2zM9 17H7v-7h2v7zm4 0h-2V7h2v10zm4 0h-2v-4h2v4z\"/>\n",
              "    </g>\n",
              "</svg>\n",
              "  </button>\n",
              "\n",
              "<style>\n",
              "  .colab-df-quickchart {\n",
              "      --bg-color: #E8F0FE;\n",
              "      --fill-color: #1967D2;\n",
              "      --hover-bg-color: #E2EBFA;\n",
              "      --hover-fill-color: #174EA6;\n",
              "      --disabled-fill-color: #AAA;\n",
              "      --disabled-bg-color: #DDD;\n",
              "  }\n",
              "\n",
              "  [theme=dark] .colab-df-quickchart {\n",
              "      --bg-color: #3B4455;\n",
              "      --fill-color: #D2E3FC;\n",
              "      --hover-bg-color: #434B5C;\n",
              "      --hover-fill-color: #FFFFFF;\n",
              "      --disabled-bg-color: #3B4455;\n",
              "      --disabled-fill-color: #666;\n",
              "  }\n",
              "\n",
              "  .colab-df-quickchart {\n",
              "    background-color: var(--bg-color);\n",
              "    border: none;\n",
              "    border-radius: 50%;\n",
              "    cursor: pointer;\n",
              "    display: none;\n",
              "    fill: var(--fill-color);\n",
              "    height: 32px;\n",
              "    padding: 0;\n",
              "    width: 32px;\n",
              "  }\n",
              "\n",
              "  .colab-df-quickchart:hover {\n",
              "    background-color: var(--hover-bg-color);\n",
              "    box-shadow: 0 1px 2px rgba(60, 64, 67, 0.3), 0 1px 3px 1px rgba(60, 64, 67, 0.15);\n",
              "    fill: var(--button-hover-fill-color);\n",
              "  }\n",
              "\n",
              "  .colab-df-quickchart-complete:disabled,\n",
              "  .colab-df-quickchart-complete:disabled:hover {\n",
              "    background-color: var(--disabled-bg-color);\n",
              "    fill: var(--disabled-fill-color);\n",
              "    box-shadow: none;\n",
              "  }\n",
              "\n",
              "  .colab-df-spinner {\n",
              "    border: 2px solid var(--fill-color);\n",
              "    border-color: transparent;\n",
              "    border-bottom-color: var(--fill-color);\n",
              "    animation:\n",
              "      spin 1s steps(1) infinite;\n",
              "  }\n",
              "\n",
              "  @keyframes spin {\n",
              "    0% {\n",
              "      border-color: transparent;\n",
              "      border-bottom-color: var(--fill-color);\n",
              "      border-left-color: var(--fill-color);\n",
              "    }\n",
              "    20% {\n",
              "      border-color: transparent;\n",
              "      border-left-color: var(--fill-color);\n",
              "      border-top-color: var(--fill-color);\n",
              "    }\n",
              "    30% {\n",
              "      border-color: transparent;\n",
              "      border-left-color: var(--fill-color);\n",
              "      border-top-color: var(--fill-color);\n",
              "      border-right-color: var(--fill-color);\n",
              "    }\n",
              "    40% {\n",
              "      border-color: transparent;\n",
              "      border-right-color: var(--fill-color);\n",
              "      border-top-color: var(--fill-color);\n",
              "    }\n",
              "    60% {\n",
              "      border-color: transparent;\n",
              "      border-right-color: var(--fill-color);\n",
              "    }\n",
              "    80% {\n",
              "      border-color: transparent;\n",
              "      border-right-color: var(--fill-color);\n",
              "      border-bottom-color: var(--fill-color);\n",
              "    }\n",
              "    90% {\n",
              "      border-color: transparent;\n",
              "      border-bottom-color: var(--fill-color);\n",
              "    }\n",
              "  }\n",
              "</style>\n",
              "\n",
              "  <script>\n",
              "    async function quickchart(key) {\n",
              "      const quickchartButtonEl =\n",
              "        document.querySelector('#' + key + ' button');\n",
              "      quickchartButtonEl.disabled = true;  // To prevent multiple clicks.\n",
              "      quickchartButtonEl.classList.add('colab-df-spinner');\n",
              "      try {\n",
              "        const charts = await google.colab.kernel.invokeFunction(\n",
              "            'suggestCharts', [key], {});\n",
              "      } catch (error) {\n",
              "        console.error('Error during call to suggestCharts:', error);\n",
              "      }\n",
              "      quickchartButtonEl.classList.remove('colab-df-spinner');\n",
              "      quickchartButtonEl.classList.add('colab-df-quickchart-complete');\n",
              "    }\n",
              "    (() => {\n",
              "      let quickchartButtonEl =\n",
              "        document.querySelector('#df-35efd2b3-1bfd-4c6e-a336-408f675e34af button');\n",
              "      quickchartButtonEl.style.display =\n",
              "        google.colab.kernel.accessAllowed ? 'block' : 'none';\n",
              "    })();\n",
              "  </script>\n",
              "</div>\n",
              "\n",
              "    </div>\n",
              "  </div>\n"
            ],
            "application/vnd.google.colaboratory.intrinsic+json": {
              "type": "dataframe",
              "variable_name": "news_data",
              "summary": "{\n  \"name\": \"news_data\",\n  \"rows\": 2096,\n  \"fields\": [\n    {\n      \"column\": \"author\",\n      \"properties\": {\n        \"dtype\": \"category\",\n        \"num_unique_values\": 491,\n        \"samples\": [\n          \"Carole Roscitto\",\n          \"Paul Craig Roberts\",\n          \"Shelby Kellin\"\n        ],\n        \"semantic_type\": \"\",\n        \"description\": \"\"\n      }\n    },\n    {\n      \"column\": \"published\",\n      \"properties\": {\n        \"dtype\": \"string\",\n        \"num_unique_values\": 2006,\n        \"samples\": [\n          \"2016-10-26T22:46:15.945+03:00\",\n          \"2016-10-27T01:45:00.000+03:00\",\n          \"2016-11-02T18:22:24.792+02:00\"\n        ],\n        \"semantic_type\": \"\",\n        \"description\": \"\"\n      }\n    },\n    {\n      \"column\": \"title\",\n      \"properties\": {\n        \"dtype\": \"string\",\n        \"num_unique_values\": 1784,\n        \"samples\": [\n          \"presstvrussian warships flotilla off syrian coast\",\n          \"hillary responds to creepy joe biden caught groping dozens of young women\",\n          \"trump kills the gop with the lowest score in history of presidential leadership poll\"\n        ],\n        \"semantic_type\": \"\",\n        \"description\": \"\"\n      }\n    },\n    {\n      \"column\": \"text\",\n      \"properties\": {\n        \"dtype\": \"string\",\n        \"num_unique_values\": 1941,\n        \"samples\": [\n          \"a subject not often discussed is the topic of how to repair strained or broken relationships it is one that comes up in everyones life so it will be useful to make a few suggestions about it here we will talk about relationships from friends family and lovers\\nrelationships among friends we will treat first the first step in this process is to make an evaluation to determine whether the relationship is worth saving or rehabilitating it is a simple fact of life that some relationships have an expiration date when two people no longer have anything in common or their paths take them in divergent directions it may be difficult to find common ground in this situation it is always better to let the relationship die a natural death slowly rather than rapidly abrupt terminations may leave the other party with negative feelings and this should be avoided if at all possible\\nthere are some instances where repair is not possible when someone has committed a fundamental violation of trust or respect this is a warning sign that the person was never a friend in the first place another point to keep in mind is that repair of a broken relationship requiresno demandsthe participation of both parties if the other person is unwilling to participate in the process then your efforts will be futile and will come to nothing\\n\\nonce we have determined that the friendship is worth repairing or sustaining the next step is to decide how to make the first approach to the other party in this we must try to evaluate the reasons for the problems in the first place we should make an honest assessment about how things got to where they are did someone say or do something that caused hard feelings on the other side was there some intervening cause that made the two parties diverge in plans and activities these types of questions must be honestly and repeatedly asked we have a tendency to minimize our own hurtful actions and exaggerate those of others and this must be kept in mind\\nthe key rule at this point is to try to put ourselves in the shoes of the other party we must try to see things from our friends perspective for many people this can be difficult as it involves getting past our own feelings of hurt or rejection and into the shoes of the other person and yet it is essential very frequently the reasons for strained or broken friendships lies in the fact that there is some problem going on in the other persons life only by being a perceptive student of human nature can we divine the cause sometimes the only thing that caused the strained relationship was some misunderstanding that was easily curable\\nkeep in mind that we must tryat least in our own mindsto discover the source of the other persons problem this is not always possible as human beings are not always rational but we can at least make the effort i remember in the film hoffa that there was a great line from jack nicholson he told one of his men real problems real grievances can be resolved they can be negotiated but imaginary grievances that man is going to hate you for life i have no idea if jimmy hoffa every actually said this but it sounds like something he would have said he meant that we should avoid hurting the pride of our friends we should be acutely aware how it is sometimes the intangible slights that can most rankle with a man\\nwhen you have decided to make the first step it is always better to initiate contact directly do not wait for the other person to do it depending on the circumstances this should be done discreetly and without too much in the way of overpowering insistence there is a certain type of finesse that a man should have at critical times and this is one of them the approach should be direct but neither insistent nor demanding a fish is best hooked with a lure gently laid\\nof vital importance here is that the approach be sincere one should genuinely want to contact the other party sincerity is the glue that binds friendships together and permits their longevity there should be no hypocrisy or falsity in any of our dealings with friends this kind of thing is immediately apparent and once detected its whiff surrounds the offending party like a permanent cloud if the other party is receptive to the approach we can then gradually feel our way forward taking care to avoid the reasons why the friendship became strained in the first place things may never quite go back to what they were but at least we can find solid ground for a new frame of reference\\ntwo examples will suffice here the historian william shirer worked closely with famed correspondent edward r murrow when the two were in germany in the s yet after the war was over the two grew apart shirers account of the estrangement suggests that he was repelled by murrows enthusiastic adoption of the anticommunist hysteria of the time shirer found himself gradually blackballed from most major news networks before being forced out completely he broke with murrow over these events many decades later he approached murrow all venom spent the two were able to find common ground again\\n\\nanother example makes the same point theodore roosevelt was a strongwilled insistent man to say the least he was in a position to choose his successor as president and to this end he selected a man very different from him the affable and rotund william howard taft taft eventually began to find roosevelt an overbearing and unwelcome presence in his life the two men eventually broke completely a result of their personality differences and different conceptions of leadership to his credit roosevelt eventually approached his old friend privately to patch things up they were never the same of course but at least some cordiality was restored\\nrelationships with family are of a fundamentally different sort because we are linked by bonds of blood or perhaps marriage it will be more difficult to disentangle ourselves from those with whom we have become estranged on the other hand it may be easier to repair such grievances or at least find common ground since there may be more shared experiences with the other party that act in our favor the key here is not to expect too much although shared history and common blood may work in our favor they can be counterbalanced to some extent by the fact that irrational family antagonisms can run deeper than those from strained friendships patience and persistence are most important here perhaps more so than friendships with those unrelated to us\\n\\nrepairing strained relationships with lovers is perhaps the most difficult when a man and woman have been united in the past through the coital act an entirely different set of emotions and motivations come into play relationships between lovers can fail or become strained for an infinite number of reasons and it would be impossible to discuss all of them here it is enough for me to state my opinion that it is nearly impossible to bring an intimate sexual relationship back to what it was after it has been broken\\nstrained is one thing broken is quite another my own experience leads me to believe that once a sexual relationship is done it is done one cannot really go back to what it was before amicable dealings are certainly possible and happen all the time but i would not call this friendship i would call it an uneasy equilibrium loves inflammatory presence scorches all it leaves in its wake\\nread more   proven ways to stop obsessive thoughts\",\n          \"louder with crowder october   \\nsamantha bee is proof positive that being funny clever or photogenic are no longer requirements in leftist media i guess we can call that progress problem is whatever the size of bees audience there is still an audience which she lied to par for the course in leftist circles but this one needs a rebuttal samantha bee said partial birth abortion is not a thing while she ranted and raved at donald trump for his comments in the final debate  sorry sammy partial birth abortion is sadly a thing \\nheres what i find interesting bees need to explain away partial birth abortion shows just how unpopular the procedure is shes trying to get rid of it not unlike a woman hoping to chop shop her unborn baby  of course she stops short of saying its a heinous evil thing for people to do to their own children by excusing the sick evil twisted women and the doctors who perform the butchery who make it happen sorry there is no reason to suck the brains out of a partially born baby for the health of the mother or if the baby has a terminal disease \\nabortion is always wrong like always \\nbecause chopping up a baby while its partially hanging out of the mother its head still in the birth canal because its going to die anyway makes sense if you agree with killing a baby like this for any reason youre sick probably a little bit evil read dear evil women who abort their babies yep that was written for you abortion supporters not sorry you might also like dear liberal women no getting an abortion is not brave this article was posted wednesday october   at  am share this article\",\n          \"united states marine field mcconnell  plum city online   abeldangernet   october   \\n abel danger  ad  claims that serco relayed zulu timing signals to mentors of the federal bridge certification authority in support of live webcast of torture killings in the mumbai attacks of november  and bc pig farm raves  \\n\\n ad claims that serco used an a prot\\u00e9g\\u00e9 company  base one technologies  to blackmail hillary clinton into outsourcing the operation of the us patent and trademark office to users of the federal bridge and equipping selected users with patented webcast servers for zulu betting on the times of victims deaths \\n\\n ad claims that in  serco operatives at the national visa center began equipping hillary clinton and michelle obama  a former sidley austin intellectual property ip lawyer and a prot\\u00e9g\\u00e9e of terrorist bernardine dohrn  with a longrange visa service for the bc pig farm and mumbai snufffilm crews \\n\\n united states marine field mcconnell  global operations director of abel danger  has offered to serve as a fivestar general in a future trump administration so he can first recognize and then destroy sercos zulu bridge to clinton patents and obama snufffilm crews \\n\\nmumbai terror attack watch nsg successful in mission against mumbai attackers   \\nmedia coverage of starnet raid  august       \\n\\nhillary clinton vs james comey email scandal supercut  \\ncopy of serco group plc list of subsidiaries and shareholders note british and saudi governments axa hsbc  teachers and gold man sachs    \\ndefense ammunition center outsourced to serco    \\nserco  would you like to know more  \\n\\ndigital fires instructor serco  camp pendleton ca uses information derived from all military disciplines eg aviation ground combat command and control combat service support intelligence and opposing forces to determine changes in enemy capabilities vulnerabilities and probable courses of action \\n\\nthe  mumbai bombay attacks were a series of attacks that took place in november  when  members of lashkaretaiba  an islamic militant organisation based in pakistan  carried out a series of  coordinated shooting and bombing attacks lasting four days across mumbai  the attacks which drew widespread global condemnation began on wednesday  november and lasted until saturday  november  killing  people and wounding at least    \\n\\neight of the attacks occurred in south mumbai at chhatrapati shivaji terminus  the oberoi trident the taj mahal palace  tower  leopold cafe cama hospital the nariman house jewish community centre the metro cinema and in a lane behind the times of india building and st xaviers college  there was also an explosion at mazagaon in mumbais port area and in a taxi at vile parle  by the early morning of  november all sites except for the taj hotel had been secured by mumbai police and security forces on  november indias national security guards nsg conducted operation black tornado to flush out the remaining attackers it culminated in the death of the last remaining attackers at the taj hotel and ending the attacks ajmal kasab disclosed that the attackers were members of lashkaretaiba among others the government of india said that the attackers came from pakistan and their controllers were in pakistan on  january  pakistan confirmed the sole surviving perpetrator of the attacks was a pakistani citizen on  april  the foremost ringleader of the attacks zakiur rehman lakhvi  was granted bail against surety bonds of  us in pakistan \\n\\nthe case of the vanishing visa files  \\ndecember    pm pst  \\nby chuck goudie   \\ndecember   chicago  potentially important evidence has disappeared in a terrorism case involving two chicago men their visa records vanished from chicagos indian consulate it comes one week after the abc  iteam raised questions about how david coleman headley and tahawwur rana obtained their foreign visas in the first place \\n\\nthe case of the vanishing visa records has churned up diplomats from mumbai to michigan avenue indias foreign secretary nirupama rao told reporters overseas wednesday that she wants answers from chicagos indian consulate about the records and visa documents that have disappeared records that might show how two accused chicago terrorists obtained permission to scout targets in india \\n\\ntop officials of chicagos india consulate wouldnt talk to the iteam on camera last week when asked how terror suspects david coleman headley and tahawwur rana obtained fiveyear unlimited passage visas to india \\n\\nand the consul general did not return calls wednesday regarding the paperwork they used to process headley and ranas visas which indian foreign secretary nirupama rao announced wednesday have disappeared \\n\\nwednesday evening the chicago consul general emailed a statement to the iteam that conflicted with government statements made in india the brief statement read we have not reported loss of any papers regarding issuance of visa to david coleman headley and tahawwur rana hussain relevant information concerning the issuance of visa to these persons is available with the government of india \\n\\nindias counterpart to the fbi is looking into the visa application process as part of its probe into the  mumbai massacre \\n\\nthe two chicago suspects are accused of having roles in the assault rana was denied bond by a chicago district judge tuesday despite family members and friends offering  million in cash and property rana has not been directly charged with the mumbai attack that left  dead but was linked to the assault in government court filings \\n\\nheadley a pakistanborn chicagoan is a convicted heroin dealer whose birth name was daood giliani he changed his name to ease travel to india according to federal prosecutors in chicago and to avoid the required previsa background check by indian authorities \\n\\nsince the time headley and rani were processed indias chicago consulate office began contracting out visa requests to a private company called travisa outsourcing that on its website claims we have revolutionized the way people get their visas \\n\\nand the new visa processing was subject of a news conference last year \\n\\nthe advantages of outsourcing is the travisa company which is handling the outsourcing has set up a call center said ashok kumar attri consul general \\n\\nforeign secretary rao said she is impressed with the cooperation the us has given to indian investigators headley and rana are not due back in court until january \\n\\nwas bernardine dohrn the mentor of michelle obama at sidley austin  \\napril    \\nbernardine dohrn was at sidley austin a law firm in chicago from from  to  dohrn was employed by the law firm sidley austin although her criminal record has prevented her from being admitted to either the new york or illinois bar httpenwikipediaorgwikibernardine_dohrn \\n\\nmichelle obama graduated from harvard law school in  but she likely also was a summer associate in  and likely  barack obama was assigned to her in  when he was a summer associate from harvard law school httpenwikipediaorgwikibarack_obama \\n\\nhe entered harvard law school in  more links and excerpts \\n\\nhttpsoldatlanticlighthousewordpresscomnorthwesternlawprofbernardinedohrnweatherunderground   \\n\\nsteve sailer on michelle obama \\nhttpwwwvdarecomsailer_michelle_obamahtm   \\n\\nmichelles princeton thesis \\nhttpblogvdarecomarchivesmichelleobamathesisfounddownloadithere   \\n\\njames fulford quotes politico \\n\\nmichelle obamas senior year thesis at princeton university obtained exclusively from the campaign by politico  shows a document written by a young woman grappling with a society in which a black princeton alumnus might only be allowed to remain on the periphery read the full thesis here part   part   part   part   michelle obama thesis was on racial divide  jeffrey ressner  politicocom \\n\\nsidley austin likely recognized this in michelle even if she didnt show them her princeton thesis who better at sidley austin to be mentor to the author of this princeton thesis than bernardine dohrn who had been number  on the fbi most wanted list \\n\\nbarack obama was assigned to michelle obama in summer  this may have reflected how few blacks there were at sidley austin especially from harvard law school or the equivalent dohrn got her jd from university of chicago law school since she is a prof at northwestern despite her background we might infer she was very smart and understanding so she was the perfect person to be the mentor for michelle obama at sidley austin \\n\\nthe above is speculation hypotheses or opinion all statements should be restated as questions all other disclaimers apply \\n\\nwebcasting is the distribution of media files through the internet the earliest webcast equivalent of an online concert and one of the earliest examples of webcasting itself was by apple computer s webcasting group in partnership with the entrepreneurs michael dorf and andrew rasiej  together with david b pakman from apple they launched the macintosh new york music festival from july   this event audio webcast concerts from more than  clubs in new york city apple later webcast a concert by metallica on june   live from slims in san francisco   \\n\\nin  benford e standley produced one of the first audiovideo webcasts in history on october   uk rock band caduseus broadcast their onehour concert from pm to am ut at celtica in machynlleth wales uk  the first live streamed audio and simultaneous live streamed video multicast  around the globe to more than twenty direct mirrors in more than twenty countries   \\n\\nserco processes  millionth patent application for us patent and trademark office date  mar  serco inc a leading provider of professional technology and management services to the federal government announced today that their pregrant publication pgpubs classification services team recently processed their  millionth patent application for the us patent  trademark office uspto each application was also processed within the contractually required day window \\n\\nbreaking hillaryclintons email server company got almost  million in govt loans after wiping emails   \\noctober    \\nby charles c johnson  comments  \\ngive it up already its over k j gillenwater was the primary researcher behind this story \\n\\nhillary clintons email server company got almost  million in government loans starting immediately after they were secretly asked to wipe hillary clintons name from her emails \\n\\nplatte river networks prn got a  loan from the small business administration in august  and another  loan in september  \\n\\npublic government data available as usaspendinggov \\n\\nthe first halfmillion dollar loan arrived not one month after prn employee paul combetta was caught accidentally revealing his company was deleting evidence at hillarys request in july   \\n\\nthe second  loan came about one year later \\n\\nyou wont hear this stuff from the lying mainstream media keep the gotnews mission alive donate at gotnewscomdonate or send tips to editorgotnewscom if youd like to join our research team contacteditorgotnewscom \\n\\nafter getting the first loan prn moved to a large office space after previously working out of the owners condo the head of the small business administration is maria contrerassweet  a mexican immigrant who was appointed to the office by barack obama two months before hillarys prn got the first loan \\n\\nwikileaks leaks have proven hillarys corrupt paytoplay scheme gotnews has shined a light on how hillary gets favors from hispanic and democratic government bureaucrats before  \\n\\ndid hillary clinton pay her email server company platte river networks prn with almost  million in favorable government loans  given out by a political friendly  in order to alter her illegal emails and get her name off them \\n\\nit sure looks like it \\n\\na freedom of information act foia request has been lodged for more information \\n\\nstay tuned for more \\n\\nk j gillenwater was the primary researcher behind this story  \\n\\npolice conclude search of starnet   \\ncbc news posted aug    am et last updated aug    am et  \\npolice have wrapped up several days of searching the offices of starnet communications in vancouver they entered the company offices and homes of some directors on friday \\n\\npolice were looking for evidence of illegal gambling distributing child pornography and money laundering since the raid starnet officials say police just dont understand their business \\n\\nthe search warrant details  months of police investigation it traces a network of companies registered in american and caribbean jurisdictions \\n\\nthe warrant also identifies vancouver as the centre of starnets operations even though this is a grey under canadian law \\n\\npolice note that starnets revenues grew dramatically in the past two years from betting and sex shows and from lucrative licensing agreements for its gaming software the investigations and pornography from company sites were grounds for fridays raid and seizure of company materials \\n\\nrcmp constable peter thiessen says investigators left starnet offices yesterday morning he says they spent the better part of three days going through the business and as a result of that search the investigation is continuing but no charges have been laid starnets many investors were spooked by the raid share prices dropped almost percent on friday however the company insists the raid had minimal effect on its operation stocks rose slightly yesterday after a day of very heavy trading \\n\\nin written statements company ceo mark dohlen said the wall street journal calls starnet the leader in internet gaming and entertainment he says companies like his those on the cutting edge are often misunderstood yesterday starnet announced it will sell off the sex side of its business it plans to focus more resources on gaming \\n\\nthe police investigation is expected to last for several more months \\n\\nsuper serco bulldozes ahead  \\nby daily mail reporter updated  gmt  september  \\nserco has come a long way since the s when it ran the fourminute warning system to alert the nation to a ballistic missile attack \\n\\ntoday its bn order book is bigger than many countries defence budgets it is bidding for a further bn worth of contracts and sees bn of opportunities \\n\\nprofit growth is less ballistic the firsthalf pretax surplus rose  to m net profits just  to m stripping out goodwill the rise was  with dividends up  to p \\n\\nserco runs the docklands light railway five uk prisons airport radar and forest bulldozers in florida  \\n\\n serco farewell to npl after  years of innovation  january  serco said goodbye to the national physical laboratory npl at the end of december  after  years of extraordinary innovation and science that has seen the establishment build a worldleading reputation and deliver billions of pounds of benefit for the uk economy during that period under serco s management and leadership npl has delivered an extraordinary variety and breadth of accomplishments for the uks economy and industry some of the key achievements during that time have been it has been estimated that work carried out by the centre of carbon measurement at npl will save eight million tonnes of carbon emissions reductions  of uk footprint and over half a billion pounds in economic benefit over the next decade npls caesium fountain atomic clock is accurate to  second in  million years and npl is playing a key role in introducing rigour to high frequency trading for serco s front running banks in the city through npl zulu time \\n\\nuk cabinet office  emergency planning college  serco types of exercise workshop exercises these are structured discussion events where participants can explore issues in a less pressurised environment they are an ideal way of developing solutions procedures and plans rather than the focus being on decision making table top exercises these involve a realistic scenario and will follow a time line either in realtime or with time jumps to concentrate on the more important areas the participants would be expected to be familiar with the plans and procedures that are being used although the exercise tempo and complexity can be adjusted to suit the current state of training and readiness simulation and media play can be used to support the exercise tabletop exercises help develop teamwork and allow participants to gain a better understanding of their roles and that of other agencies and organisations commandcontrol post exercises these are designed primarily to exercise the senior leadership and support staff in collective planning and decision making within a strategic grouping ideally such exercises would be run from the real command and control locations and using their communications and information systems feeling lucky punk  this could include a mix of locations and varying levels of technical simulation support the gold standard system is flexible to allow the tempo and intensity to be adjusted to ensure maximum training benefit or to fully test and evaluate the most important aspects of a plan such exercises also test information flow communications equipment procedures decision making and coordination live exercises these can range from testing individual components of a system or organisation through to a fullscale rehearsal they are particularly useful where there are regulatory requirements or with highrisk situations they are more complex and costly to organise and deliver but can be integrated with command post exercises as part of a wider exercising package  \\n\\nchristopher rajendran hyman cbe born  july  in durban south africa was chief executive of serco group plc from  to october   on graduation he worked for arthur andersen in  he won an month exchange with ernst  young in london who employed him after four months head hunted in  by serco  hyman became european finance director and in  was made group finance director in  hyman became chief executive  hyman resigned from his role of chief executive of serco on  october  following allegations that serco had overcharged government customers  he was making a presentation to serco shareholder including british and saudi governments on the th floor of the world trade center north tower at the time of the september  attacks in  \\n\\njuly   developments in pki occurred in the early s at the british intelligence agency gchq  where james ellis  clifford cocks and others made important discoveries related to encryption algorithms and key distribution   however as developments at gchq are highly classified the results of this work were kept secret and not publicly acknowledged until the mids \\n\\nthe public disclosure of both secure key exchange and asymmetric key algorithms in  by diffie hellman  rivest shamir  and adleman changed secure communications entirely with the further development of highspeed digital electronic communications the internet and its predecessors a need became evident for ways in which users could securely communicate with each other and as a further consequence of that for ways in which users could be sure with whom they were actually interacting \\n\\nassorted cryptographic protocols were invented and analyzed within which the new cryptographic primitives could be effectively used with the invention of the world wide web and its rapid spread the need for authentication and secure communication became still more acute commercial reasons alone eg ecommerce online access to proprietary databases from web browsers were sufficient taher elgamal and others at netscape developed the ssl protocol https in web urls it included key establishment server authentication prior to v oneway only and so on a pki structure was thus created for web userssites wishing secure communications \\n\\nvendors and entrepreneurs saw the possibility of a large market started companies or new projects at existing companies and began to agitate for legal recognition and protection from liability an american bar association technology project published an extensive analysis of some of the foreseeable legal aspects of pki operations see aba digital signature guidelines and shortly thereafter several us states utah being the first in  and other jurisdictions throughout the world began to enact laws and adopt regulations consumer groups raised questions about privacy access and liability considerations which were more taken into consideration in some jurisdictions than in others \\n\\nthe enacted laws and regulations differed there were technical and operational problems in converting pki schemes into successful commercial operation and progress has been much slower than pioneers had imagined it would be \\n\\nby the first few years of the st century the underlying cryptographic engineering was clearly not easy to deploy correctly operating procedures manual or automatic were not easy to correctly design nor even if so designed to execute perfectly which the engineering required the standards that existed were insufficient \\n\\npki vendors have found a market but it is not quite the market envisioned in the mids and it has grown both more slowly and in somewhat different ways than were anticipated pkis have not solved some of the problems they were expected to and several major vendors have gone out of business or been acquired by others pki has had the most success in government implementations the largest pki implementation to date is the defense information systems agency disa pki infrastructure for the common access cards program  \\n\\nbase one technologies  corporate strategy  we are a government certified womenowned business   \\nwe practice diversity recruitment and staffing for it positions base one was founded in  by a women engineer who had made a career in technology research for many years base one has been very successful in focusing on diversity recruiting and staffing for it projects it has been our experience that the greater the diversity mix the more creative the solution as in any field the more diverse the viewpoint the more thorough your analysis our engineers can think out of the box \\n\\nbecause of our affiliations we have access to pools of resources among more diverse groups  individuals we work with a large pool of minority professionals who specialize in it skills we are able to have access to these resources through our status as a dmwbd firm and our affiliations these affiliations assist us in working with resources among more diverse groups  individuals we are also partnered with firms that are a certified as minority firms disabled veteran firms native american firms vietnam veteran firms women owned firms \\n\\nour hub zone location keeps us close to the professional organizations of great diversity we are active in recruiting from and networking with these community organizations of local it professionals this has given us access to a large pool of diversity talent \\n\\nbase ones staff of engineers are a diverse group of professionals this diverse network of engineers helps us to branch out to other engineers and creates an even larger network of resources for us to work with \\n\\nthe greater the diversity the more complete  thorough the analysis the broader the spectrum of points of view the broader the scope of the analysis we feel that a diverse team gives us a greater advantage in creating cutting edge solutions to that end we will continue to nurture these relationships to further extend our talent pool \\n\\nthe greater the diversity mix the more creative the solution \\n\\nthe more diverse the viewpoint the more thorough the analysis \\n\\nthe more diverse our team the more our engineers can think out of the box \\n\\nthis is why base one technologies concentrates on diversity recruitment in the belief that a diverse team gives us a greater advantage in creating cutting edge solutions \\n\\ninformation security planning is the process whereby an organization seeks to protect its operations and assets from data theft or computer hackers that seek to obtain unauthorized information or sabotage business operations \\n\\nkey clients benefiting from our information security expertise pentagon renovation program faa citigroup mci \\n\\nbase one technologies \\n\\nexpertly researches designs and develops information security policies that protect your data and manage your firms information technology risk at levels acceptable to your business \\n\\nperforms architectural assessments and conducts both internal and external penetration testing the results of these efforts culminate in an extensive risk analysis and vulnerabilities report \\n\\ndevelops implements and supports information security counter measures such as honeypots and evidence logging and incident documentation processes and solutions \\n\\nbase one technologies ltd is a domestic business corporation located in new york ny and was formed on feb   this file was obtained from the secretary of state and has a file number of   \\n\\nsercos office of partner relations opr helps facilitate our aggressive small business utilization and growth strategies through the opr serco mentors four local small businesses under formal mentor prot\\u00e9g\\u00e9 agreements three sponsored by dhs base one technologies tsymmetry inc and heitech services inc and the fourth sponsored by gsa dkw communications inc serco and heitech services were awarded the  dhs mentor prot\\u00e9g\\u00e9 team award for exceeding our mentoring goals httpwwwdticmilwhsdirectivescorrespdfppdf \\n\\nopened in  as the successor to the transitional immigrant visa processing center in rosslyn va the nvc centralizes all immigrant visa preprocessing and appointment scheduling for overseas posts the nvc collects paperwork and fees before forwarding a case ready for adjudication to the responsible post \\n\\nthe center also handles immigrant and fianc\\u00e9 visa petitions and while it does not adjudicate visa applications it provides technical assistance and support to visaadjudicating consular officials overseas \\n\\nonly two foreign service officers the director and deputy director work at the center along with just five civil service employees they work with almost  contract employees doing preprocessing of visas making the center one of the largest employers in the portsmouth area \\n\\nthe contractor serco  inc has worked with the nvc since its inception and with the department for almost  years \\n\\nthe nvc houses more than  million immigrant visa files receives almost two million pieces of mail per year and received more than half a million petitions from the us citizenship and immigration service uscis in  its file rooms highdensity shelves are stacked floortoceiling with files each a collection of someones hopes and dreams and each requiring proper handling  \\n\\nthe nvc also preprocesses the chief of mission com application required for the filing of a petition for a special immigrant visa siv such visas for foreign nationals who have performed services for the us government in iraq and afghanistan require com concurrence before the applicant can file a petition with uscis the nvc collects the requisite documents from such applicants and when complete forwards the package to the us embassies in baghdad or kabul for com approval \\n\\nyours sincerely \\n\\nfield mcconnell united states naval academy  forensic economist  year airline and  year military pilot  hours of safety tel    \\n\\ndavid hawkins tel   forensic economist former leader of oilwell blowout teams now sponsors grand juries in csi crime and safety investigation\"\n        ],\n        \"semantic_type\": \"\",\n        \"description\": \"\"\n      }\n    },\n    {\n      \"column\": \"language\",\n      \"properties\": {\n        \"dtype\": \"category\",\n        \"num_unique_values\": 5,\n        \"samples\": [\n          \"ignore\",\n          \"spanish\",\n          \"german\"\n        ],\n        \"semantic_type\": \"\",\n        \"description\": \"\"\n      }\n    },\n    {\n      \"column\": \"site_url\",\n      \"properties\": {\n        \"dtype\": \"category\",\n        \"num_unique_values\": 68,\n        \"samples\": [\n          \"proudemocrat.com\",\n          \"clickhole.com\",\n          \"abovetopsecret.com\"\n        ],\n        \"semantic_type\": \"\",\n        \"description\": \"\"\n      }\n    },\n    {\n      \"column\": \"main_img_url\",\n      \"properties\": {\n        \"dtype\": \"string\",\n        \"num_unique_values\": 1229,\n        \"samples\": [\n          \"https://4.bp.blogspot.com/-HAp5fNZT0L0/WCr1jhplhiI/AAAAAAAAmGY/E2AUUm8wydo_dB2DtBE_cN2xqwHjB0zTgCLcB/w1200-h630-p-nu/Flitzer-Schach-WM.jpg\",\n          \"http://www.voltairenet.org/local/cache-vignettes/L113xH150/arton193897-6c713.jpg\",\n          \"http://awdnews.com/images/14775618731.jpg\"\n        ],\n        \"semantic_type\": \"\",\n        \"description\": \"\"\n      }\n    },\n    {\n      \"column\": \"type\",\n      \"properties\": {\n        \"dtype\": \"category\",\n        \"num_unique_values\": 8,\n        \"samples\": [\n          \"conspiracy\",\n          \"hate\",\n          \"bias\"\n        ],\n        \"semantic_type\": \"\",\n        \"description\": \"\"\n      }\n    },\n    {\n      \"column\": \"label\",\n      \"properties\": {\n        \"dtype\": \"category\",\n        \"num_unique_values\": 2,\n        \"samples\": [\n          \"Fake\",\n          \"Real\"\n        ],\n        \"semantic_type\": \"\",\n        \"description\": \"\"\n      }\n    },\n    {\n      \"column\": \"title_without_stopwords\",\n      \"properties\": {\n        \"dtype\": \"string\",\n        \"num_unique_values\": 1780,\n        \"samples\": [\n          \"weekly astrology nov us election prediction video\",\n          \"friday fox follies megyn murdochs money\"\n        ],\n        \"semantic_type\": \"\",\n        \"description\": \"\"\n      }\n    },\n    {\n      \"column\": \"text_without_stopwords\",\n      \"properties\": {\n        \"dtype\": \"string\",\n        \"num_unique_values\": 1937,\n        \"samples\": [\n          \"email ever wonder whats mind todays notable people well dont miss unbelievable roundup best talked quotes day saw contortionist fold box toys food box didnt really see point paula hawkins flexibility youre rich pay guy breathe shoes warm put youre less wealthy still afford someone really matter frugal spending organizing coop neighborhood people take turns breathing others shoes sheryl sandberg everyday luxury skin avocado hide many secret remove journey mystery madness neil gaiman\",\n          \"sonntag november sonntagsfrage sagen sie dazu dass donald trump tats\\u00e4chlich gewonnen hat w das werden sich hierzulande viele gedacht haben als sie mittwochmorgen die ersten nachrichten von donald trumps sieg gelesen haben nun wo sie sich allm\\u00e4hlich damit abgefunden haben d\\u00fcrften der ustillon nicht unterst\\u00fctzt vom meinungsforschungsinstitut opinion control weil denen seit der wahl nicht mehr zu trauen ist dieser woche von ihnen wissen und hier noch die unglaublich spannenden ergebnisse der letzten sonntagsfrage stimmen gesamt wer soll n\\u00e4chster bundespr\\u00e4sident werden topantworten tim wiese pro rhetorisches ass contra passt nicht durch die t\\u00fcr im schloss bellevue stimmen ich selbst pro einzige person der ich traue contra leider korrupt stimmen jan b\\u00f6hmermann pro etwas lustiger als gauck contra krieg mit der t\\u00fcrkei stimmen\"\n        ],\n        \"semantic_type\": \"\",\n        \"description\": \"\"\n      }\n    },\n    {\n      \"column\": \"hasImage\",\n      \"properties\": {\n        \"dtype\": \"number\",\n        \"std\": 0.41629892386736406,\n        \"min\": 0.0,\n        \"max\": 1.0,\n        \"num_unique_values\": 2,\n        \"samples\": [\n          0.0,\n          1.0\n        ],\n        \"semantic_type\": \"\",\n        \"description\": \"\"\n      }\n    }\n  ]\n}"
            }
          },
          "metadata": {},
          "execution_count": 11
        }
      ],
      "source": [
        "news_data = pd.read_csv('news_articles.csv')\n",
        "news_data.head()"
      ]
    },
    {
      "cell_type": "code",
      "execution_count": 12,
      "metadata": {
        "id": "AuFcofIb6BoV"
      },
      "outputs": [],
      "source": [
        "news_data.dropna(subset=['label'], inplace=True)"
      ]
    },
    {
      "cell_type": "code",
      "execution_count": 13,
      "metadata": {
        "colab": {
          "base_uri": "https://localhost:8080/"
        },
        "id": "o2p2_fJGzzKc",
        "outputId": "f1341736-ab1c-419c-b720-9c1104e70f22"
      },
      "outputs": [
        {
          "output_type": "execute_result",
          "data": {
            "text/plain": [
              "(2095, 12)"
            ]
          },
          "metadata": {},
          "execution_count": 13
        }
      ],
      "source": [
        "news_data.shape"
      ]
    },
    {
      "cell_type": "code",
      "execution_count": 14,
      "metadata": {
        "colab": {
          "base_uri": "https://localhost:8080/"
        },
        "id": "Tx2-zBTJ0hwD",
        "outputId": "e3379505-3e4e-4ea0-c851-3001e99e3121"
      },
      "outputs": [
        {
          "output_type": "stream",
          "name": "stdout",
          "text": [
            "<class 'pandas.core.frame.DataFrame'>\n",
            "Index: 2095 entries, 0 to 2094\n",
            "Data columns (total 12 columns):\n",
            " #   Column                   Non-Null Count  Dtype  \n",
            "---  ------                   --------------  -----  \n",
            " 0   author                   2095 non-null   object \n",
            " 1   published                2095 non-null   object \n",
            " 2   title                    2095 non-null   object \n",
            " 3   text                     2050 non-null   object \n",
            " 4   language                 2095 non-null   object \n",
            " 5   site_url                 2095 non-null   object \n",
            " 6   main_img_url             2095 non-null   object \n",
            " 7   type                     2095 non-null   object \n",
            " 8   label                    2095 non-null   object \n",
            " 9   title_without_stopwords  2094 non-null   object \n",
            " 10  text_without_stopwords   2046 non-null   object \n",
            " 11  hasImage                 2095 non-null   float64\n",
            "dtypes: float64(1), object(11)\n",
            "memory usage: 212.8+ KB\n"
          ]
        }
      ],
      "source": [
        "news_data.info()"
      ]
    },
    {
      "cell_type": "code",
      "execution_count": 15,
      "metadata": {
        "colab": {
          "base_uri": "https://localhost:8080/"
        },
        "id": "9l5jAy4Oz7DL",
        "outputId": "da8d3d20-08e6-4cfe-d304-64a74d7eb2ed"
      },
      "outputs": [
        {
          "output_type": "execute_result",
          "data": {
            "text/plain": [
              "author                      0\n",
              "published                   0\n",
              "title                       0\n",
              "text                       45\n",
              "language                    0\n",
              "site_url                    0\n",
              "main_img_url                0\n",
              "type                        0\n",
              "label                       0\n",
              "title_without_stopwords     1\n",
              "text_without_stopwords     49\n",
              "hasImage                    0\n",
              "dtype: int64"
            ]
          },
          "metadata": {},
          "execution_count": 15
        }
      ],
      "source": [
        "news_data.isnull().sum()"
      ]
    },
    {
      "cell_type": "code",
      "execution_count": 16,
      "metadata": {
        "id": "IjuGdRB00H-S"
      },
      "outputs": [],
      "source": [
        "news_data = news_data.fillna('')"
      ]
    },
    {
      "cell_type": "code",
      "execution_count": 17,
      "metadata": {
        "colab": {
          "base_uri": "https://localhost:8080/"
        },
        "id": "cOQi1YSk0Vkc",
        "outputId": "87930a8a-af86-40a8-d95f-44cbb39ed376"
      },
      "outputs": [
        {
          "output_type": "execute_result",
          "data": {
            "text/plain": [
              "author                     0\n",
              "published                  0\n",
              "title                      0\n",
              "text                       0\n",
              "language                   0\n",
              "site_url                   0\n",
              "main_img_url               0\n",
              "type                       0\n",
              "label                      0\n",
              "title_without_stopwords    0\n",
              "text_without_stopwords     0\n",
              "hasImage                   0\n",
              "dtype: int64"
            ]
          },
          "metadata": {},
          "execution_count": 17
        }
      ],
      "source": [
        "news_data.isnull().sum()"
      ]
    },
    {
      "cell_type": "code",
      "execution_count": 18,
      "metadata": {
        "colab": {
          "base_uri": "https://localhost:8080/"
        },
        "id": "JQRi6mLo0ZQZ",
        "outputId": "a94c9fd6-4398-484f-f857-752aabd7ccce"
      },
      "outputs": [
        {
          "output_type": "execute_result",
          "data": {
            "text/plain": [
              "0       Barracuda Brigade muslims busted they stole mi...\n",
              "1       reasoning with facts re why did attorney gener...\n",
              "2       Barracuda Brigade breaking weiner cooperating ...\n",
              "3       Fed Up pin drop speech by father of daughter k...\n",
              "4       Fed Up fantastic trumps  point plan to reform ...\n",
              "                              ...                        \n",
              "2090    -NO AUTHOR- prof canoes reek of genocide white...\n",
              "2091    -NO AUTHOR- teens walk free after gangrape con...\n",
              "2092    -NO AUTHOR- school named for munichmassacre ma...\n",
              "2093            -NO AUTHOR- russia unveils satan  missile\n",
              "2094    -NO AUTHOR- check out hillarythemed haunted house\n",
              "Name: finalcontent, Length: 2095, dtype: object"
            ]
          },
          "metadata": {},
          "execution_count": 18
        }
      ],
      "source": [
        "news_data['finalcontent'] = news_data['author']+' '+news_data['title']\n",
        "news_data['finalcontent']"
      ]
    },
    {
      "cell_type": "code",
      "execution_count": 19,
      "metadata": {
        "id": "tMU_51ey1man"
      },
      "outputs": [],
      "source": [
        "X = news_data.drop(columns='label',axis=1)\n",
        "Y = news_data['label']"
      ]
    },
    {
      "cell_type": "code",
      "execution_count": 20,
      "metadata": {
        "colab": {
          "base_uri": "https://localhost:8080/"
        },
        "id": "ti3iAw3i24sM",
        "outputId": "88197fad-d6e4-4054-8d03-e8399a245e3f"
      },
      "outputs": [
        {
          "output_type": "stream",
          "name": "stdout",
          "text": [
            "0       Real\n",
            "1       Real\n",
            "2       Real\n",
            "3       Real\n",
            "4       Real\n",
            "        ... \n",
            "2090    Real\n",
            "2091    Real\n",
            "2092    Real\n",
            "2093    Fake\n",
            "2094    Fake\n",
            "Name: label, Length: 2095, dtype: object\n"
          ]
        }
      ],
      "source": [
        "# print(X)\n",
        "print(Y)"
      ]
    },
    {
      "cell_type": "markdown",
      "metadata": {
        "id": "JvCAZGbe8f4A"
      },
      "source": [
        "## PreProcessing"
      ]
    },
    {
      "cell_type": "code",
      "execution_count": 21,
      "metadata": {
        "id": "2n4whJrP2_el"
      },
      "outputs": [],
      "source": [
        "le = LabelEncoder()\n",
        "Y = le.fit_transform(Y)\n",
        "news_data['label'] = Y"
      ]
    },
    {
      "cell_type": "code",
      "execution_count": 22,
      "metadata": {
        "id": "zTdhsthx7LUn"
      },
      "outputs": [],
      "source": [
        "port_stem = PorterStemmer()"
      ]
    },
    {
      "cell_type": "code",
      "execution_count": 23,
      "metadata": {
        "id": "qfPZd8SO7Vgf"
      },
      "outputs": [],
      "source": [
        "def stemming(finalcontent):\n",
        "  stemmed_content = re.sub('[^a-zA-Z]',' ',finalcontent)\n",
        "  stemmed_content = stemmed_content.lower()\n",
        "  stemmed_content = stemmed_content.split(' ')\n",
        "\n",
        "  # for word in stemmed_content:\n",
        "  #   if not word in stopwords.words('english'):\n",
        "  #     word = port_stem.stem(word)\n",
        "\n",
        "  # list comprehension\n",
        "  stemmed_content = [port_stem.stem(word) for word in stemmed_content if not word in stopwords.words('english')]\n",
        "  stemmed_content = ' '.join(stemmed_content)\n",
        "  return stemmed_content"
      ]
    },
    {
      "cell_type": "code",
      "execution_count": 24,
      "metadata": {
        "colab": {
          "base_uri": "https://localhost:8080/"
        },
        "id": "WHZ24SyF-olg",
        "outputId": "4863238b-9ca3-4e61-e9b9-f17b02ecea36"
      },
      "outputs": [
        {
          "output_type": "execute_result",
          "data": {
            "text/plain": [
              "0    Barracuda Brigade muslims busted they stole mi...\n",
              "1    reasoning with facts re why did attorney gener...\n",
              "2    Barracuda Brigade breaking weiner cooperating ...\n",
              "3    Fed Up pin drop speech by father of daughter k...\n",
              "4    Fed Up fantastic trumps  point plan to reform ...\n",
              "Name: finalcontent, dtype: object"
            ]
          },
          "metadata": {},
          "execution_count": 24
        }
      ],
      "source": [
        "news_data['finalcontent'].head()"
      ]
    },
    {
      "cell_type": "code",
      "execution_count": 25,
      "metadata": {
        "id": "Z2MHN9hs-ahR"
      },
      "outputs": [],
      "source": [
        "news_data['finalcontent'] = news_data['finalcontent'].apply(stemming)"
      ]
    },
    {
      "cell_type": "code",
      "execution_count": 26,
      "metadata": {
        "colab": {
          "base_uri": "https://localhost:8080/"
        },
        "id": "k6mUVJEj_g15",
        "outputId": "c7c2fb4b-90a2-4943-9416-77704dd94c6b"
      },
      "outputs": [
        {
          "output_type": "execute_result",
          "data": {
            "text/plain": [
              "0    barracuda brigad muslim bust stole million gov...\n",
              "1    reason fact attorney gener loretta lynch plead...\n",
              "2    barracuda brigad break weiner cooper fbi hilla...\n",
              "3    fed pin drop speech father daughter kidnap kil...\n",
              "4    fed fantast trump  point plan reform healthcar...\n",
              "Name: finalcontent, dtype: object"
            ]
          },
          "metadata": {},
          "execution_count": 26
        }
      ],
      "source": [
        "news_data['finalcontent'].head()"
      ]
    },
    {
      "cell_type": "code",
      "execution_count": 27,
      "metadata": {
        "colab": {
          "base_uri": "https://localhost:8080/"
        },
        "id": "y4AX-KPcCADz",
        "outputId": "7db14a11-cef8-4daa-dda0-02b85d33b7eb"
      },
      "outputs": [
        {
          "output_type": "stream",
          "name": "stdout",
          "text": [
            "[1 1 1 ... 1 0 0]\n"
          ]
        }
      ],
      "source": [
        "X = news_data['finalcontent'].values\n",
        "Y = news_data['label'].values\n",
        "print(Y)"
      ]
    },
    {
      "cell_type": "code",
      "execution_count": 29,
      "metadata": {
        "colab": {
          "base_uri": "https://localhost:8080/"
        },
        "id": "Tui5c3XCCgLC",
        "outputId": "f5458f20-b5f5-4f6b-e720-c840ba99b445"
      },
      "outputs": [
        {
          "output_type": "stream",
          "name": "stdout",
          "text": [
            "[1 1 1 ... 1 0 0]\n"
          ]
        }
      ],
      "source": [
        "print(Y)"
      ]
    },
    {
      "cell_type": "code",
      "execution_count": 30,
      "metadata": {
        "colab": {
          "base_uri": "https://localhost:8080/"
        },
        "id": "4YX-Az_9C0LZ",
        "outputId": "e265057a-b5f4-4a10-c732-07fe271b4d81"
      },
      "outputs": [
        {
          "output_type": "execute_result",
          "data": {
            "text/plain": [
              "(2095,)"
            ]
          },
          "metadata": {},
          "execution_count": 30
        }
      ],
      "source": [
        "Y.shape"
      ]
    },
    {
      "cell_type": "code",
      "execution_count": 31,
      "metadata": {
        "id": "4UdCQy7LaJAA"
      },
      "outputs": [],
      "source": [
        "vectorizer = TfidfVectorizer()\n",
        "vectorizer.fit(X)\n",
        "X = vectorizer.transform(X)"
      ]
    },
    {
      "cell_type": "code",
      "execution_count": 32,
      "metadata": {
        "colab": {
          "base_uri": "https://localhost:8080/"
        },
        "id": "ab8-CGKKaaeg",
        "outputId": "bd3f3a7a-1f20-452c-b5a7-ec54196048a8"
      },
      "outputs": [
        {
          "output_type": "stream",
          "name": "stdout",
          "text": [
            "  (0, 4404)\t0.39660184056030895\n",
            "  (0, 3035)\t0.30865815877480496\n",
            "  (0, 2929)\t0.2756337034699588\n",
            "  (0, 1915)\t0.381488234342381\n",
            "  (0, 638)\t0.3697652106033948\n",
            "  (0, 588)\t0.36018680277652093\n",
            "  (0, 439)\t0.36018680277652093\n",
            "  (0, 384)\t0.36018680277652093\n",
            "  (1, 3723)\t0.301186719882459\n",
            "  (1, 3446)\t0.4022804759810462\n",
            "  (1, 2737)\t0.328407602815182\n",
            "  (1, 2702)\t0.3571296558308957\n",
            "  (1, 1848)\t0.3165167261541107\n",
            "  (1, 1647)\t0.4022804759810462\n",
            "  (1, 1574)\t0.35001403312646234\n",
            "  (1, 292)\t0.3571296558308957\n",
            "  (2, 5027)\t0.37508681904933167\n",
            "  (2, 2309)\t0.2861086133435773\n",
            "  (2, 2093)\t0.1837897779917715\n",
            "  (2, 1620)\t0.25458261035859014\n",
            "  (2, 1406)\t0.25545446285554463\n",
            "  (2, 965)\t0.4542514764269615\n",
            "  (2, 588)\t0.3915149697639706\n",
            "  (2, 571)\t0.317319117021581\n",
            "  (2, 384)\t0.3915149697639706\n",
            "  :\t:\n",
            "  (2090, 3570)\t0.4086148555991827\n",
            "  (2090, 1852)\t0.43827109518083174\n",
            "  (2090, 670)\t0.43827109518083174\n",
            "  (2090, 308)\t0.134163968203357\n",
            "  (2091, 4969)\t0.395645901245794\n",
            "  (2091, 4565)\t0.46302940750629784\n",
            "  (2091, 1817)\t0.4878986547670812\n",
            "  (2091, 1758)\t0.395645901245794\n",
            "  (2091, 961)\t0.46302940750629784\n",
            "  (2091, 308)\t0.14174300652946903\n",
            "  (2092, 4032)\t0.39672046243105175\n",
            "  (2092, 3050)\t0.5042163123489377\n",
            "  (2092, 3025)\t0.5312977027346133\n",
            "  (2092, 2822)\t0.5312977027346133\n",
            "  (2092, 308)\t0.1543511813611281\n",
            "  (2093, 4847)\t0.5292467935778735\n",
            "  (2093, 4002)\t0.5292467935778735\n",
            "  (2093, 3959)\t0.4000252028876419\n",
            "  (2093, 2948)\t0.49794716164259495\n",
            "  (2093, 308)\t0.17839317319298836\n",
            "  (2094, 2154)\t0.40186263864394706\n",
            "  (2094, 2095)\t0.5655770968777523\n",
            "  (2094, 2028)\t0.5367484118017427\n",
            "  (2094, 760)\t0.45114560129620046\n",
            "  (2094, 308)\t0.1643099388620619\n"
          ]
        }
      ],
      "source": [
        "print(X)"
      ]
    },
    {
      "cell_type": "markdown",
      "metadata": {
        "id": "OREtDnR-cQKW"
      },
      "source": [
        "Splitting Dataset"
      ]
    },
    {
      "cell_type": "code",
      "execution_count": 33,
      "metadata": {
        "id": "WussFfzrb9QS"
      },
      "outputs": [],
      "source": [
        "X_train,X_test,Y_train,Y_test = train_test_split(X,Y,test_size=0.2,stratify=Y,random_state=2)"
      ]
    },
    {
      "cell_type": "markdown",
      "metadata": {
        "id": "mcT1h_bVc9G2"
      },
      "source": [
        "Training Model"
      ]
    },
    {
      "cell_type": "markdown",
      "metadata": {
        "id": "ZsEHWU3Yg5cx"
      },
      "source": [
        "# Logistic Regression"
      ]
    },
    {
      "cell_type": "code",
      "execution_count": 34,
      "metadata": {
        "id": "m1qsCeFHc5Rg"
      },
      "outputs": [],
      "source": [
        "model = LogisticRegression()"
      ]
    },
    {
      "cell_type": "code",
      "execution_count": 35,
      "metadata": {
        "colab": {
          "base_uri": "https://localhost:8080/",
          "height": 75
        },
        "id": "vIXIH5a6dEq-",
        "outputId": "55be6595-e86c-43ef-c7f5-79dd5ee22492"
      },
      "outputs": [
        {
          "output_type": "execute_result",
          "data": {
            "text/plain": [
              "LogisticRegression()"
            ],
            "text/html": [
              "<style>#sk-container-id-1 {color: black;background-color: white;}#sk-container-id-1 pre{padding: 0;}#sk-container-id-1 div.sk-toggleable {background-color: white;}#sk-container-id-1 label.sk-toggleable__label {cursor: pointer;display: block;width: 100%;margin-bottom: 0;padding: 0.3em;box-sizing: border-box;text-align: center;}#sk-container-id-1 label.sk-toggleable__label-arrow:before {content: \"▸\";float: left;margin-right: 0.25em;color: #696969;}#sk-container-id-1 label.sk-toggleable__label-arrow:hover:before {color: black;}#sk-container-id-1 div.sk-estimator:hover label.sk-toggleable__label-arrow:before {color: black;}#sk-container-id-1 div.sk-toggleable__content {max-height: 0;max-width: 0;overflow: hidden;text-align: left;background-color: #f0f8ff;}#sk-container-id-1 div.sk-toggleable__content pre {margin: 0.2em;color: black;border-radius: 0.25em;background-color: #f0f8ff;}#sk-container-id-1 input.sk-toggleable__control:checked~div.sk-toggleable__content {max-height: 200px;max-width: 100%;overflow: auto;}#sk-container-id-1 input.sk-toggleable__control:checked~label.sk-toggleable__label-arrow:before {content: \"▾\";}#sk-container-id-1 div.sk-estimator input.sk-toggleable__control:checked~label.sk-toggleable__label {background-color: #d4ebff;}#sk-container-id-1 div.sk-label input.sk-toggleable__control:checked~label.sk-toggleable__label {background-color: #d4ebff;}#sk-container-id-1 input.sk-hidden--visually {border: 0;clip: rect(1px 1px 1px 1px);clip: rect(1px, 1px, 1px, 1px);height: 1px;margin: -1px;overflow: hidden;padding: 0;position: absolute;width: 1px;}#sk-container-id-1 div.sk-estimator {font-family: monospace;background-color: #f0f8ff;border: 1px dotted black;border-radius: 0.25em;box-sizing: border-box;margin-bottom: 0.5em;}#sk-container-id-1 div.sk-estimator:hover {background-color: #d4ebff;}#sk-container-id-1 div.sk-parallel-item::after {content: \"\";width: 100%;border-bottom: 1px solid gray;flex-grow: 1;}#sk-container-id-1 div.sk-label:hover label.sk-toggleable__label {background-color: #d4ebff;}#sk-container-id-1 div.sk-serial::before {content: \"\";position: absolute;border-left: 1px solid gray;box-sizing: border-box;top: 0;bottom: 0;left: 50%;z-index: 0;}#sk-container-id-1 div.sk-serial {display: flex;flex-direction: column;align-items: center;background-color: white;padding-right: 0.2em;padding-left: 0.2em;position: relative;}#sk-container-id-1 div.sk-item {position: relative;z-index: 1;}#sk-container-id-1 div.sk-parallel {display: flex;align-items: stretch;justify-content: center;background-color: white;position: relative;}#sk-container-id-1 div.sk-item::before, #sk-container-id-1 div.sk-parallel-item::before {content: \"\";position: absolute;border-left: 1px solid gray;box-sizing: border-box;top: 0;bottom: 0;left: 50%;z-index: -1;}#sk-container-id-1 div.sk-parallel-item {display: flex;flex-direction: column;z-index: 1;position: relative;background-color: white;}#sk-container-id-1 div.sk-parallel-item:first-child::after {align-self: flex-end;width: 50%;}#sk-container-id-1 div.sk-parallel-item:last-child::after {align-self: flex-start;width: 50%;}#sk-container-id-1 div.sk-parallel-item:only-child::after {width: 0;}#sk-container-id-1 div.sk-dashed-wrapped {border: 1px dashed gray;margin: 0 0.4em 0.5em 0.4em;box-sizing: border-box;padding-bottom: 0.4em;background-color: white;}#sk-container-id-1 div.sk-label label {font-family: monospace;font-weight: bold;display: inline-block;line-height: 1.2em;}#sk-container-id-1 div.sk-label-container {text-align: center;}#sk-container-id-1 div.sk-container {/* jupyter's `normalize.less` sets `[hidden] { display: none; }` but bootstrap.min.css set `[hidden] { display: none !important; }` so we also need the `!important` here to be able to override the default hidden behavior on the sphinx rendered scikit-learn.org. See: https://github.com/scikit-learn/scikit-learn/issues/21755 */display: inline-block !important;position: relative;}#sk-container-id-1 div.sk-text-repr-fallback {display: none;}</style><div id=\"sk-container-id-1\" class=\"sk-top-container\"><div class=\"sk-text-repr-fallback\"><pre>LogisticRegression()</pre><b>In a Jupyter environment, please rerun this cell to show the HTML representation or trust the notebook. <br />On GitHub, the HTML representation is unable to render, please try loading this page with nbviewer.org.</b></div><div class=\"sk-container\" hidden><div class=\"sk-item\"><div class=\"sk-estimator sk-toggleable\"><input class=\"sk-toggleable__control sk-hidden--visually\" id=\"sk-estimator-id-1\" type=\"checkbox\" checked><label for=\"sk-estimator-id-1\" class=\"sk-toggleable__label sk-toggleable__label-arrow\">LogisticRegression</label><div class=\"sk-toggleable__content\"><pre>LogisticRegression()</pre></div></div></div></div></div>"
            ]
          },
          "metadata": {},
          "execution_count": 35
        }
      ],
      "source": [
        "model.fit(X_train,Y_train)"
      ]
    },
    {
      "cell_type": "markdown",
      "metadata": {
        "id": "8Qg072jRdWuX"
      },
      "source": [
        "Evaluation"
      ]
    },
    {
      "cell_type": "code",
      "execution_count": 36,
      "metadata": {
        "id": "EeUtKAAYdRoQ"
      },
      "outputs": [],
      "source": [
        "X_train_Prediction = model.predict(X_train)\n",
        "training_data_accuracy = accuracy_score(X_train_Prediction,Y_train)"
      ]
    },
    {
      "cell_type": "code",
      "execution_count": 37,
      "metadata": {
        "id": "xulpx5BHdfe1",
        "colab": {
          "base_uri": "https://localhost:8080/"
        },
        "outputId": "3627f005-7d18-4d15-8ca5-37987a55e5f8"
      },
      "outputs": [
        {
          "output_type": "stream",
          "name": "stdout",
          "text": [
            "0.9373508353221957\n"
          ]
        }
      ],
      "source": [
        "print(training_data_accuracy)"
      ]
    },
    {
      "cell_type": "code",
      "execution_count": 38,
      "metadata": {
        "id": "aYNLui5uelvn"
      },
      "outputs": [],
      "source": [
        "X_test_Prediction = model.predict(X_test)\n",
        "testing_data_accuracy = accuracy_score(X_test_Prediction,Y_test)"
      ]
    },
    {
      "cell_type": "code",
      "execution_count": 39,
      "metadata": {
        "id": "jdQ5wuLQeyIO",
        "colab": {
          "base_uri": "https://localhost:8080/"
        },
        "outputId": "94fef6b7-1436-4a94-f5a5-0330f6d314a6"
      },
      "outputs": [
        {
          "output_type": "stream",
          "name": "stdout",
          "text": [
            "0.7923627684964201\n"
          ]
        }
      ],
      "source": [
        "print(testing_data_accuracy)"
      ]
    },
    {
      "cell_type": "markdown",
      "metadata": {
        "id": "AOQSUJ9Mg9be"
      },
      "source": [
        "# Decision Tree Classifier"
      ]
    },
    {
      "cell_type": "code",
      "execution_count": 40,
      "metadata": {
        "id": "mnHW81yjhA_4",
        "colab": {
          "base_uri": "https://localhost:8080/",
          "height": 75
        },
        "outputId": "a4d893b6-eeae-41ad-8a96-410f256613cd"
      },
      "outputs": [
        {
          "output_type": "execute_result",
          "data": {
            "text/plain": [
              "DecisionTreeClassifier()"
            ],
            "text/html": [
              "<style>#sk-container-id-2 {color: black;background-color: white;}#sk-container-id-2 pre{padding: 0;}#sk-container-id-2 div.sk-toggleable {background-color: white;}#sk-container-id-2 label.sk-toggleable__label {cursor: pointer;display: block;width: 100%;margin-bottom: 0;padding: 0.3em;box-sizing: border-box;text-align: center;}#sk-container-id-2 label.sk-toggleable__label-arrow:before {content: \"▸\";float: left;margin-right: 0.25em;color: #696969;}#sk-container-id-2 label.sk-toggleable__label-arrow:hover:before {color: black;}#sk-container-id-2 div.sk-estimator:hover label.sk-toggleable__label-arrow:before {color: black;}#sk-container-id-2 div.sk-toggleable__content {max-height: 0;max-width: 0;overflow: hidden;text-align: left;background-color: #f0f8ff;}#sk-container-id-2 div.sk-toggleable__content pre {margin: 0.2em;color: black;border-radius: 0.25em;background-color: #f0f8ff;}#sk-container-id-2 input.sk-toggleable__control:checked~div.sk-toggleable__content {max-height: 200px;max-width: 100%;overflow: auto;}#sk-container-id-2 input.sk-toggleable__control:checked~label.sk-toggleable__label-arrow:before {content: \"▾\";}#sk-container-id-2 div.sk-estimator input.sk-toggleable__control:checked~label.sk-toggleable__label {background-color: #d4ebff;}#sk-container-id-2 div.sk-label input.sk-toggleable__control:checked~label.sk-toggleable__label {background-color: #d4ebff;}#sk-container-id-2 input.sk-hidden--visually {border: 0;clip: rect(1px 1px 1px 1px);clip: rect(1px, 1px, 1px, 1px);height: 1px;margin: -1px;overflow: hidden;padding: 0;position: absolute;width: 1px;}#sk-container-id-2 div.sk-estimator {font-family: monospace;background-color: #f0f8ff;border: 1px dotted black;border-radius: 0.25em;box-sizing: border-box;margin-bottom: 0.5em;}#sk-container-id-2 div.sk-estimator:hover {background-color: #d4ebff;}#sk-container-id-2 div.sk-parallel-item::after {content: \"\";width: 100%;border-bottom: 1px solid gray;flex-grow: 1;}#sk-container-id-2 div.sk-label:hover label.sk-toggleable__label {background-color: #d4ebff;}#sk-container-id-2 div.sk-serial::before {content: \"\";position: absolute;border-left: 1px solid gray;box-sizing: border-box;top: 0;bottom: 0;left: 50%;z-index: 0;}#sk-container-id-2 div.sk-serial {display: flex;flex-direction: column;align-items: center;background-color: white;padding-right: 0.2em;padding-left: 0.2em;position: relative;}#sk-container-id-2 div.sk-item {position: relative;z-index: 1;}#sk-container-id-2 div.sk-parallel {display: flex;align-items: stretch;justify-content: center;background-color: white;position: relative;}#sk-container-id-2 div.sk-item::before, #sk-container-id-2 div.sk-parallel-item::before {content: \"\";position: absolute;border-left: 1px solid gray;box-sizing: border-box;top: 0;bottom: 0;left: 50%;z-index: -1;}#sk-container-id-2 div.sk-parallel-item {display: flex;flex-direction: column;z-index: 1;position: relative;background-color: white;}#sk-container-id-2 div.sk-parallel-item:first-child::after {align-self: flex-end;width: 50%;}#sk-container-id-2 div.sk-parallel-item:last-child::after {align-self: flex-start;width: 50%;}#sk-container-id-2 div.sk-parallel-item:only-child::after {width: 0;}#sk-container-id-2 div.sk-dashed-wrapped {border: 1px dashed gray;margin: 0 0.4em 0.5em 0.4em;box-sizing: border-box;padding-bottom: 0.4em;background-color: white;}#sk-container-id-2 div.sk-label label {font-family: monospace;font-weight: bold;display: inline-block;line-height: 1.2em;}#sk-container-id-2 div.sk-label-container {text-align: center;}#sk-container-id-2 div.sk-container {/* jupyter's `normalize.less` sets `[hidden] { display: none; }` but bootstrap.min.css set `[hidden] { display: none !important; }` so we also need the `!important` here to be able to override the default hidden behavior on the sphinx rendered scikit-learn.org. See: https://github.com/scikit-learn/scikit-learn/issues/21755 */display: inline-block !important;position: relative;}#sk-container-id-2 div.sk-text-repr-fallback {display: none;}</style><div id=\"sk-container-id-2\" class=\"sk-top-container\"><div class=\"sk-text-repr-fallback\"><pre>DecisionTreeClassifier()</pre><b>In a Jupyter environment, please rerun this cell to show the HTML representation or trust the notebook. <br />On GitHub, the HTML representation is unable to render, please try loading this page with nbviewer.org.</b></div><div class=\"sk-container\" hidden><div class=\"sk-item\"><div class=\"sk-estimator sk-toggleable\"><input class=\"sk-toggleable__control sk-hidden--visually\" id=\"sk-estimator-id-2\" type=\"checkbox\" checked><label for=\"sk-estimator-id-2\" class=\"sk-toggleable__label sk-toggleable__label-arrow\">DecisionTreeClassifier</label><div class=\"sk-toggleable__content\"><pre>DecisionTreeClassifier()</pre></div></div></div></div></div>"
            ]
          },
          "metadata": {},
          "execution_count": 40
        }
      ],
      "source": [
        "clf = DecisionTreeClassifier()\n",
        "clf.fit(X_train,Y_train)"
      ]
    },
    {
      "cell_type": "code",
      "execution_count": 41,
      "metadata": {
        "id": "rHCuljEzhPqB"
      },
      "outputs": [],
      "source": [
        "X_train_Prediction = clf.predict(X_train)\n",
        "training_data_accuracy = accuracy_score(X_train_Prediction,Y_train)"
      ]
    },
    {
      "cell_type": "code",
      "execution_count": 42,
      "metadata": {
        "id": "YNa1TfMNhTF3",
        "colab": {
          "base_uri": "https://localhost:8080/"
        },
        "outputId": "a2aeb69a-56c4-4c98-a38d-96d7cf96f48c"
      },
      "outputs": [
        {
          "output_type": "stream",
          "name": "stdout",
          "text": [
            "1.0\n"
          ]
        }
      ],
      "source": [
        "print(training_data_accuracy)"
      ]
    },
    {
      "cell_type": "code",
      "execution_count": 43,
      "metadata": {
        "id": "ihikaXsvhbuI"
      },
      "outputs": [],
      "source": [
        "X_test_Prediction = clf.predict(X_test)\n",
        "testing_data_accuracy = accuracy_score(X_test_Prediction,Y_test)"
      ]
    },
    {
      "cell_type": "code",
      "execution_count": 44,
      "metadata": {
        "id": "u2ZZqpoMhdrf",
        "colab": {
          "base_uri": "https://localhost:8080/"
        },
        "outputId": "3bc6e3a9-b94c-4b72-92a1-27097831675f"
      },
      "outputs": [
        {
          "output_type": "stream",
          "name": "stdout",
          "text": [
            "0.837708830548926\n"
          ]
        }
      ],
      "source": [
        "print(testing_data_accuracy)"
      ]
    },
    {
      "cell_type": "markdown",
      "metadata": {
        "id": "-r5WJmjGihS_"
      },
      "source": [
        "# SVM Model"
      ]
    },
    {
      "cell_type": "code",
      "execution_count": 45,
      "metadata": {
        "id": "pO3VlB5BimLO",
        "colab": {
          "base_uri": "https://localhost:8080/",
          "height": 75
        },
        "outputId": "be0dbe8e-680e-443b-ed5b-4caa11abc739"
      },
      "outputs": [
        {
          "output_type": "execute_result",
          "data": {
            "text/plain": [
              "SVC(kernel='linear')"
            ],
            "text/html": [
              "<style>#sk-container-id-3 {color: black;background-color: white;}#sk-container-id-3 pre{padding: 0;}#sk-container-id-3 div.sk-toggleable {background-color: white;}#sk-container-id-3 label.sk-toggleable__label {cursor: pointer;display: block;width: 100%;margin-bottom: 0;padding: 0.3em;box-sizing: border-box;text-align: center;}#sk-container-id-3 label.sk-toggleable__label-arrow:before {content: \"▸\";float: left;margin-right: 0.25em;color: #696969;}#sk-container-id-3 label.sk-toggleable__label-arrow:hover:before {color: black;}#sk-container-id-3 div.sk-estimator:hover label.sk-toggleable__label-arrow:before {color: black;}#sk-container-id-3 div.sk-toggleable__content {max-height: 0;max-width: 0;overflow: hidden;text-align: left;background-color: #f0f8ff;}#sk-container-id-3 div.sk-toggleable__content pre {margin: 0.2em;color: black;border-radius: 0.25em;background-color: #f0f8ff;}#sk-container-id-3 input.sk-toggleable__control:checked~div.sk-toggleable__content {max-height: 200px;max-width: 100%;overflow: auto;}#sk-container-id-3 input.sk-toggleable__control:checked~label.sk-toggleable__label-arrow:before {content: \"▾\";}#sk-container-id-3 div.sk-estimator input.sk-toggleable__control:checked~label.sk-toggleable__label {background-color: #d4ebff;}#sk-container-id-3 div.sk-label input.sk-toggleable__control:checked~label.sk-toggleable__label {background-color: #d4ebff;}#sk-container-id-3 input.sk-hidden--visually {border: 0;clip: rect(1px 1px 1px 1px);clip: rect(1px, 1px, 1px, 1px);height: 1px;margin: -1px;overflow: hidden;padding: 0;position: absolute;width: 1px;}#sk-container-id-3 div.sk-estimator {font-family: monospace;background-color: #f0f8ff;border: 1px dotted black;border-radius: 0.25em;box-sizing: border-box;margin-bottom: 0.5em;}#sk-container-id-3 div.sk-estimator:hover {background-color: #d4ebff;}#sk-container-id-3 div.sk-parallel-item::after {content: \"\";width: 100%;border-bottom: 1px solid gray;flex-grow: 1;}#sk-container-id-3 div.sk-label:hover label.sk-toggleable__label {background-color: #d4ebff;}#sk-container-id-3 div.sk-serial::before {content: \"\";position: absolute;border-left: 1px solid gray;box-sizing: border-box;top: 0;bottom: 0;left: 50%;z-index: 0;}#sk-container-id-3 div.sk-serial {display: flex;flex-direction: column;align-items: center;background-color: white;padding-right: 0.2em;padding-left: 0.2em;position: relative;}#sk-container-id-3 div.sk-item {position: relative;z-index: 1;}#sk-container-id-3 div.sk-parallel {display: flex;align-items: stretch;justify-content: center;background-color: white;position: relative;}#sk-container-id-3 div.sk-item::before, #sk-container-id-3 div.sk-parallel-item::before {content: \"\";position: absolute;border-left: 1px solid gray;box-sizing: border-box;top: 0;bottom: 0;left: 50%;z-index: -1;}#sk-container-id-3 div.sk-parallel-item {display: flex;flex-direction: column;z-index: 1;position: relative;background-color: white;}#sk-container-id-3 div.sk-parallel-item:first-child::after {align-self: flex-end;width: 50%;}#sk-container-id-3 div.sk-parallel-item:last-child::after {align-self: flex-start;width: 50%;}#sk-container-id-3 div.sk-parallel-item:only-child::after {width: 0;}#sk-container-id-3 div.sk-dashed-wrapped {border: 1px dashed gray;margin: 0 0.4em 0.5em 0.4em;box-sizing: border-box;padding-bottom: 0.4em;background-color: white;}#sk-container-id-3 div.sk-label label {font-family: monospace;font-weight: bold;display: inline-block;line-height: 1.2em;}#sk-container-id-3 div.sk-label-container {text-align: center;}#sk-container-id-3 div.sk-container {/* jupyter's `normalize.less` sets `[hidden] { display: none; }` but bootstrap.min.css set `[hidden] { display: none !important; }` so we also need the `!important` here to be able to override the default hidden behavior on the sphinx rendered scikit-learn.org. See: https://github.com/scikit-learn/scikit-learn/issues/21755 */display: inline-block !important;position: relative;}#sk-container-id-3 div.sk-text-repr-fallback {display: none;}</style><div id=\"sk-container-id-3\" class=\"sk-top-container\"><div class=\"sk-text-repr-fallback\"><pre>SVC(kernel=&#x27;linear&#x27;)</pre><b>In a Jupyter environment, please rerun this cell to show the HTML representation or trust the notebook. <br />On GitHub, the HTML representation is unable to render, please try loading this page with nbviewer.org.</b></div><div class=\"sk-container\" hidden><div class=\"sk-item\"><div class=\"sk-estimator sk-toggleable\"><input class=\"sk-toggleable__control sk-hidden--visually\" id=\"sk-estimator-id-3\" type=\"checkbox\" checked><label for=\"sk-estimator-id-3\" class=\"sk-toggleable__label sk-toggleable__label-arrow\">SVC</label><div class=\"sk-toggleable__content\"><pre>SVC(kernel=&#x27;linear&#x27;)</pre></div></div></div></div></div>"
            ]
          },
          "metadata": {},
          "execution_count": 45
        }
      ],
      "source": [
        "svm_model = SVC(kernel='linear')\n",
        "svm_model.fit(X_train, Y_train)"
      ]
    },
    {
      "cell_type": "code",
      "execution_count": 46,
      "metadata": {
        "id": "s0xEN4BHjLzB"
      },
      "outputs": [],
      "source": [
        "X_train_Prediction = svm_model.predict(X_train)\n",
        "training_data_accuracy = accuracy_score(X_train_Prediction,Y_train)"
      ]
    },
    {
      "cell_type": "code",
      "execution_count": 47,
      "metadata": {
        "id": "SN9_HKWpjXsz",
        "colab": {
          "base_uri": "https://localhost:8080/"
        },
        "outputId": "3189ee8e-a792-4aa7-a18a-8a0d09800cc8"
      },
      "outputs": [
        {
          "output_type": "stream",
          "name": "stdout",
          "text": [
            "0.9850835322195705\n"
          ]
        }
      ],
      "source": [
        "print(training_data_accuracy)"
      ]
    },
    {
      "cell_type": "code",
      "execution_count": 48,
      "metadata": {
        "id": "jYyral5YjozA"
      },
      "outputs": [],
      "source": [
        "X_test_Prediction = svm_model.predict(X_test)\n",
        "testing_data_accuracy = accuracy_score(X_test_Prediction,Y_test)"
      ]
    },
    {
      "cell_type": "code",
      "execution_count": 49,
      "metadata": {
        "id": "xCdECEPxjrhA",
        "colab": {
          "base_uri": "https://localhost:8080/"
        },
        "outputId": "50a9f973-d5ab-4e13-b29b-4d2e89cb33a6"
      },
      "outputs": [
        {
          "output_type": "stream",
          "name": "stdout",
          "text": [
            "0.8663484486873508\n"
          ]
        }
      ],
      "source": [
        "print(testing_data_accuracy)"
      ]
    },
    {
      "cell_type": "markdown",
      "metadata": {
        "id": "EikDFoj_k4qY"
      },
      "source": [
        "# K-Neighbours Neighbours"
      ]
    },
    {
      "cell_type": "code",
      "execution_count": 50,
      "metadata": {
        "id": "oy8YsKTjkD6Z",
        "colab": {
          "base_uri": "https://localhost:8080/",
          "height": 75
        },
        "outputId": "47e5b1ee-f77c-49c6-a6d6-0e73b6e057f6"
      },
      "outputs": [
        {
          "output_type": "execute_result",
          "data": {
            "text/plain": [
              "KNeighborsClassifier()"
            ],
            "text/html": [
              "<style>#sk-container-id-4 {color: black;background-color: white;}#sk-container-id-4 pre{padding: 0;}#sk-container-id-4 div.sk-toggleable {background-color: white;}#sk-container-id-4 label.sk-toggleable__label {cursor: pointer;display: block;width: 100%;margin-bottom: 0;padding: 0.3em;box-sizing: border-box;text-align: center;}#sk-container-id-4 label.sk-toggleable__label-arrow:before {content: \"▸\";float: left;margin-right: 0.25em;color: #696969;}#sk-container-id-4 label.sk-toggleable__label-arrow:hover:before {color: black;}#sk-container-id-4 div.sk-estimator:hover label.sk-toggleable__label-arrow:before {color: black;}#sk-container-id-4 div.sk-toggleable__content {max-height: 0;max-width: 0;overflow: hidden;text-align: left;background-color: #f0f8ff;}#sk-container-id-4 div.sk-toggleable__content pre {margin: 0.2em;color: black;border-radius: 0.25em;background-color: #f0f8ff;}#sk-container-id-4 input.sk-toggleable__control:checked~div.sk-toggleable__content {max-height: 200px;max-width: 100%;overflow: auto;}#sk-container-id-4 input.sk-toggleable__control:checked~label.sk-toggleable__label-arrow:before {content: \"▾\";}#sk-container-id-4 div.sk-estimator input.sk-toggleable__control:checked~label.sk-toggleable__label {background-color: #d4ebff;}#sk-container-id-4 div.sk-label input.sk-toggleable__control:checked~label.sk-toggleable__label {background-color: #d4ebff;}#sk-container-id-4 input.sk-hidden--visually {border: 0;clip: rect(1px 1px 1px 1px);clip: rect(1px, 1px, 1px, 1px);height: 1px;margin: -1px;overflow: hidden;padding: 0;position: absolute;width: 1px;}#sk-container-id-4 div.sk-estimator {font-family: monospace;background-color: #f0f8ff;border: 1px dotted black;border-radius: 0.25em;box-sizing: border-box;margin-bottom: 0.5em;}#sk-container-id-4 div.sk-estimator:hover {background-color: #d4ebff;}#sk-container-id-4 div.sk-parallel-item::after {content: \"\";width: 100%;border-bottom: 1px solid gray;flex-grow: 1;}#sk-container-id-4 div.sk-label:hover label.sk-toggleable__label {background-color: #d4ebff;}#sk-container-id-4 div.sk-serial::before {content: \"\";position: absolute;border-left: 1px solid gray;box-sizing: border-box;top: 0;bottom: 0;left: 50%;z-index: 0;}#sk-container-id-4 div.sk-serial {display: flex;flex-direction: column;align-items: center;background-color: white;padding-right: 0.2em;padding-left: 0.2em;position: relative;}#sk-container-id-4 div.sk-item {position: relative;z-index: 1;}#sk-container-id-4 div.sk-parallel {display: flex;align-items: stretch;justify-content: center;background-color: white;position: relative;}#sk-container-id-4 div.sk-item::before, #sk-container-id-4 div.sk-parallel-item::before {content: \"\";position: absolute;border-left: 1px solid gray;box-sizing: border-box;top: 0;bottom: 0;left: 50%;z-index: -1;}#sk-container-id-4 div.sk-parallel-item {display: flex;flex-direction: column;z-index: 1;position: relative;background-color: white;}#sk-container-id-4 div.sk-parallel-item:first-child::after {align-self: flex-end;width: 50%;}#sk-container-id-4 div.sk-parallel-item:last-child::after {align-self: flex-start;width: 50%;}#sk-container-id-4 div.sk-parallel-item:only-child::after {width: 0;}#sk-container-id-4 div.sk-dashed-wrapped {border: 1px dashed gray;margin: 0 0.4em 0.5em 0.4em;box-sizing: border-box;padding-bottom: 0.4em;background-color: white;}#sk-container-id-4 div.sk-label label {font-family: monospace;font-weight: bold;display: inline-block;line-height: 1.2em;}#sk-container-id-4 div.sk-label-container {text-align: center;}#sk-container-id-4 div.sk-container {/* jupyter's `normalize.less` sets `[hidden] { display: none; }` but bootstrap.min.css set `[hidden] { display: none !important; }` so we also need the `!important` here to be able to override the default hidden behavior on the sphinx rendered scikit-learn.org. See: https://github.com/scikit-learn/scikit-learn/issues/21755 */display: inline-block !important;position: relative;}#sk-container-id-4 div.sk-text-repr-fallback {display: none;}</style><div id=\"sk-container-id-4\" class=\"sk-top-container\"><div class=\"sk-text-repr-fallback\"><pre>KNeighborsClassifier()</pre><b>In a Jupyter environment, please rerun this cell to show the HTML representation or trust the notebook. <br />On GitHub, the HTML representation is unable to render, please try loading this page with nbviewer.org.</b></div><div class=\"sk-container\" hidden><div class=\"sk-item\"><div class=\"sk-estimator sk-toggleable\"><input class=\"sk-toggleable__control sk-hidden--visually\" id=\"sk-estimator-id-4\" type=\"checkbox\" checked><label for=\"sk-estimator-id-4\" class=\"sk-toggleable__label sk-toggleable__label-arrow\">KNeighborsClassifier</label><div class=\"sk-toggleable__content\"><pre>KNeighborsClassifier()</pre></div></div></div></div></div>"
            ]
          },
          "metadata": {},
          "execution_count": 50
        }
      ],
      "source": [
        "knn_model = KNeighborsClassifier(n_neighbors=5)\n",
        "knn_model.fit(X_train, Y_train)"
      ]
    },
    {
      "cell_type": "code",
      "execution_count": 51,
      "metadata": {
        "id": "RzKHDTj7lETg"
      },
      "outputs": [],
      "source": [
        "predictions = knn_model.predict(X_test)"
      ]
    },
    {
      "cell_type": "code",
      "execution_count": 52,
      "metadata": {
        "id": "QHx3lx5JlSRm"
      },
      "outputs": [],
      "source": [
        "X_train_Prediction = knn_model.predict(X_train)\n",
        "training_data_accuracy = accuracy_score(X_train_Prediction,Y_train)"
      ]
    },
    {
      "cell_type": "code",
      "execution_count": 53,
      "metadata": {
        "id": "e3ViX86blVI1",
        "colab": {
          "base_uri": "https://localhost:8080/"
        },
        "outputId": "60bc04a8-66f6-43e2-fa4d-2205cd7736f0"
      },
      "outputs": [
        {
          "output_type": "stream",
          "name": "stdout",
          "text": [
            "0.8496420047732697\n"
          ]
        }
      ],
      "source": [
        "print(training_data_accuracy)"
      ]
    },
    {
      "cell_type": "code",
      "execution_count": 54,
      "metadata": {
        "id": "0lnYVvAXltah"
      },
      "outputs": [],
      "source": [
        "X_test_Prediction = knn_model.predict(X_test)\n",
        "testing_data_accuracy = accuracy_score(X_test_Prediction,Y_test)"
      ]
    },
    {
      "cell_type": "code",
      "execution_count": 55,
      "metadata": {
        "id": "Mskjx1t9lu6E",
        "colab": {
          "base_uri": "https://localhost:8080/"
        },
        "outputId": "6a6165ec-7ddf-4fcb-db31-5d4803ae8ed0"
      },
      "outputs": [
        {
          "output_type": "stream",
          "name": "stdout",
          "text": [
            "0.7732696897374701\n"
          ]
        }
      ],
      "source": [
        "print(testing_data_accuracy)"
      ]
    }
  ],
  "metadata": {
    "colab": {
      "provenance": []
    },
    "kernelspec": {
      "display_name": "Python 3",
      "name": "python3"
    },
    "language_info": {
      "name": "python"
    }
  },
  "nbformat": 4,
  "nbformat_minor": 0
}